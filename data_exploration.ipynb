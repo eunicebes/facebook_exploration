{
 "cells": [
  {
   "cell_type": "code",
   "execution_count": 237,
   "metadata": {},
   "outputs": [],
   "source": [
    "import re\n",
    "import jieba\n",
    "import jieba.analyse\n",
    "import json\n",
    "import random\n",
    "import numpy as np\n",
    "from sklearn.feature_extraction.text import TfidfVectorizer, CountVectorizer, TfidfTransformer"
   ]
  },
  {
   "cell_type": "code",
   "execution_count": 238,
   "metadata": {},
   "outputs": [],
   "source": [
    "from elasticsearch import Elasticsearch\n",
    "import elasticsearch.helpers\n",
    "from datetime import datetime"
   ]
  },
  {
   "cell_type": "code",
   "execution_count": 239,
   "metadata": {},
   "outputs": [],
   "source": [
    "es = Elasticsearch([{'host': 'localhost', 'port': 9200}])"
   ]
  },
  {
   "cell_type": "code",
   "execution_count": 240,
   "metadata": {},
   "outputs": [
    {
     "name": "stdout",
     "output_type": "stream",
     "text": [
      "58 documents found\n"
     ]
    }
   ],
   "source": [
    "# Find top10\n",
    "res = es.search(index='facebook', doc_type='user', body= {'query': {'match': {'gender': 'female'}}})\n",
    "print(\"%d documents found\" % res['hits']['total'])"
   ]
  },
  {
   "cell_type": "code",
   "execution_count": 241,
   "metadata": {},
   "outputs": [
    {
     "name": "stdout",
     "output_type": "stream",
     "text": [
      "143\n"
     ]
    }
   ],
   "source": [
    "# Take all result\n",
    "users = list(elasticsearch.helpers.scan(es, index='facebook', doc_type='user'))\n",
    "total_user = [(user['_id'], user['_source'].get('gender')) for user in users]\n",
    "print(len(total_user))"
   ]
  },
  {
   "cell_type": "code",
   "execution_count": 242,
   "metadata": {},
   "outputs": [],
   "source": [
    "no_message = ['1618047998214350', '1624029027647185', '1454298984658260']\n",
    "foreigners = ['1695358370488750', '10213401737335928', '1532260126834371', '10154597524691479', '10155404471078548', '10158882655745234']"
   ]
  },
  {
   "cell_type": "code",
   "execution_count": 243,
   "metadata": {},
   "outputs": [],
   "source": [
    "user_dict = {'male': [], 'female': []}\n",
    "for user in total_user:\n",
    "    if user[0] not in (no_message + foreigners):\n",
    "        if user[1] == 'male':\n",
    "            user_dict['male'].append(user[0])\n",
    "        else:\n",
    "            user_dict['female'].append(user[0])"
   ]
  },
  {
   "cell_type": "code",
   "execution_count": 244,
   "metadata": {},
   "outputs": [
    {
     "name": "stdout",
     "output_type": "stream",
     "text": [
      "male: 80\n",
      "female: 54\n"
     ]
    }
   ],
   "source": [
    "print('male: ' + str(len(user_dict['male'])) + '\\nfemale: ' + str(len(user_dict['female'])))"
   ]
  },
  {
   "cell_type": "code",
   "execution_count": 278,
   "metadata": {},
   "outputs": [],
   "source": [
    "# Filtering urls\n",
    "def filtering_url(messages):\n",
    "    filtered_messages = [re.sub('http[s]?://(?:[a-zA-Z]|[0-9]|[$-_@.&+]|[!*\\(\\),]|(?:%[0-9a-fA-F][0-9a-fA-F]))+', '', message) for message in messages]\n",
    "    return filtered_messages"
   ]
  },
  {
   "cell_type": "code",
   "execution_count": 279,
   "metadata": {},
   "outputs": [],
   "source": [
    "# Mapping user posts\n",
    "def get_posts(users):\n",
    "    posts_dic = {}\n",
    "    for user in users:\n",
    "        # print(user)\n",
    "        posts = list(elasticsearch.helpers.scan(es, query={'query': {'match': {'user_id': user}}}, index='facebook', doc_type='post'))\n",
    "        messages = [post['_source'].get('message') for post in posts if post['_source'].get('message') != '']\n",
    "        #print(message)\n",
    "        filtered_messages = filtering_url(messages)\n",
    "        posts_dic[user] = filtered_messages\n",
    "    return posts_dic"
   ]
  },
  {
   "cell_type": "code",
   "execution_count": 280,
   "metadata": {},
   "outputs": [],
   "source": [
    "male_posts_dict = get_posts(user_dict['male'])\n",
    "female_posts_dict = get_posts(user_dict['female'])"
   ]
  },
  {
   "cell_type": "code",
   "execution_count": 257,
   "metadata": {},
   "outputs": [],
   "source": [
    "# Check if content is Chinese or not\n",
    "def is_Chinese(uchar):\n",
    "    if uchar >= u'\\u4e00' and uchar<=u'\\u9fa5':  \n",
    "        return True  \n",
    "    else:  \n",
    "        return False"
   ]
  },
  {
   "cell_type": "code",
   "execution_count": 282,
   "metadata": {},
   "outputs": [],
   "source": [
    "# Using jieba to tokenize user posts\n",
    "def tokenize_posts(user_posts):\n",
    "    seg_posts = {}\n",
    "    for key, messages in user_posts.items():\n",
    "        seg_posts[key] = [\" \".join(jieba.cut(message, cut_all = False)) for message in messages]\n",
    "    return seg_posts"
   ]
  },
  {
   "cell_type": "code",
   "execution_count": 283,
   "metadata": {},
   "outputs": [],
   "source": [
    "male_seg_posts = tokenize_posts(male_posts_dict)\n",
    "female_seg_posts = tokenize_posts(female_posts_dict)"
   ]
  },
  {
   "cell_type": "code",
   "execution_count": 284,
   "metadata": {},
   "outputs": [],
   "source": [
    "# Display tfidf score\n",
    "def display_scores(vectorizer, tfidf_result):\n",
    "    # http://stackoverflow.com/questions/16078015/\n",
    "    scores = zip(vectorizer.get_feature_names(),\n",
    "                 np.asarray(tfidf_result.sum(axis=0)).ravel())\n",
    "    sorted_scores = sorted(scores, key=lambda x: x[1], reverse=True)\n",
    "    index_scores = []\n",
    "    for index, item in enumerate(sorted_scores):\n",
    "        index_scores.append((index, item[1]))\n",
    "    return sorted_scores"
   ]
  },
  {
   "cell_type": "code",
   "execution_count": 285,
   "metadata": {},
   "outputs": [],
   "source": [
    "def calculate_tfidf(seg_posts):\n",
    "    corpus = [segment for key, segments in seg_posts.items() for segment in segments]\n",
    "    tfidf_vectorizer = TfidfVectorizer()\n",
    "    tfidf = tfidf_vectorizer.fit_transform(corpus)\n",
    "    tfidf_features = tfidf_vectorizer.get_feature_names()\n",
    "    \n",
    "    sorted_scores = display_scores(tfidf_vectorizer, tfidf)\n",
    "    return sorted_scores"
   ]
  },
  {
   "cell_type": "code",
   "execution_count": 286,
   "metadata": {},
   "outputs": [],
   "source": [
    "male_tfidf_scores = calculate_tfidf(male_seg_posts)\n",
    "female_tfidf_scores = calculate_tfidf(female_seg_posts)"
   ]
  },
  {
   "cell_type": "code",
   "execution_count": 287,
   "metadata": {},
   "outputs": [],
   "source": [
    "male_bag_of_words = [word[0] for word in male_tfidf_scores[:100]]\n",
    "female_bag_of_words = [word[0] for word in female_tfidf_scores[:100]]"
   ]
  },
  {
   "cell_type": "code",
   "execution_count": 288,
   "metadata": {},
   "outputs": [],
   "source": [
    "male_num = 0\n",
    "for key, messages in male_posts_dict.items():\n",
    "    male_num += len(messages)"
   ]
  },
  {
   "cell_type": "code",
   "execution_count": 221,
   "metadata": {},
   "outputs": [
    {
     "data": {
      "text/plain": [
       "62217"
      ]
     },
     "execution_count": 221,
     "metadata": {},
     "output_type": "execute_result"
    }
   ],
   "source": [
    "male_num"
   ]
  },
  {
   "cell_type": "code",
   "execution_count": 222,
   "metadata": {},
   "outputs": [],
   "source": [
    "female_num = 0\n",
    "for key, messages in female_posts_dict.items():\n",
    "    female_num += len(messages)"
   ]
  },
  {
   "cell_type": "code",
   "execution_count": 223,
   "metadata": {},
   "outputs": [
    {
     "data": {
      "text/plain": [
       "23535"
      ]
     },
     "execution_count": 223,
     "metadata": {},
     "output_type": "execute_result"
    }
   ],
   "source": [
    "female_num"
   ]
  },
  {
   "cell_type": "code",
   "execution_count": null,
   "metadata": {},
   "outputs": [],
   "source": []
  }
 ],
 "metadata": {
  "kernelspec": {
   "display_name": "Python 3",
   "language": "python",
   "name": "python3"
  },
  "language_info": {
   "codemirror_mode": {
    "name": "ipython",
    "version": 3
   },
   "file_extension": ".py",
   "mimetype": "text/x-python",
   "name": "python",
   "nbconvert_exporter": "python",
   "pygments_lexer": "ipython3",
   "version": "3.5.2"
  }
 },
 "nbformat": 4,
 "nbformat_minor": 2
}
