{
 "cells": [
  {
   "cell_type": "code",
   "execution_count": 446,
   "metadata": {},
   "outputs": [],
   "source": [
    "import re\n",
    "import jieba\n",
    "import jieba.analyse\n",
    "import json\n",
    "import random\n",
    "import operator\n",
    "import numpy as np\n",
    "import pandas as pd\n",
    "from collections import defaultdict\n",
    "from sklearn.feature_extraction.text import TfidfVectorizer, CountVectorizer, TfidfTransformer\n",
    "from sklearn.decomposition import NMF, LatentDirichletAllocation"
   ]
  },
  {
   "cell_type": "code",
   "execution_count": 2,
   "metadata": {},
   "outputs": [],
   "source": [
    "from elasticsearch import Elasticsearch\n",
    "import elasticsearch.helpers\n",
    "from datetime import datetime"
   ]
  },
  {
   "cell_type": "code",
   "execution_count": 3,
   "metadata": {},
   "outputs": [],
   "source": [
    "es = Elasticsearch([{'host': 'localhost', 'port': 9200}])"
   ]
  },
  {
   "cell_type": "code",
   "execution_count": 4,
   "metadata": {},
   "outputs": [
    {
     "name": "stdout",
     "output_type": "stream",
     "text": [
      "58 documents found\n"
     ]
    }
   ],
   "source": [
    "# Find top10\n",
    "res = es.search(index='facebook', doc_type='user', body= {'query': {'match': {'gender': 'female'}}})\n",
    "print(\"%d documents found\" % res['hits']['total'])"
   ]
  },
  {
   "cell_type": "code",
   "execution_count": 5,
   "metadata": {},
   "outputs": [
    {
     "name": "stdout",
     "output_type": "stream",
     "text": [
      "143\n"
     ]
    }
   ],
   "source": [
    "# Take all result\n",
    "users = list(elasticsearch.helpers.scan(es, index='facebook', doc_type='user'))\n",
    "total_users = [user['_id'] for user in users]\n",
    "total_user_with_gender = [(user['_id'], user['_source'].get('gender')) for user in users]\n",
    "print(len(total_user_with_gender))"
   ]
  },
  {
   "cell_type": "code",
   "execution_count": 6,
   "metadata": {},
   "outputs": [],
   "source": [
    "no_message = ['1618047998214350', '1624029027647185', '1454298984658260', '1805190672831590']\n",
    "foreigners = ['1695358370488750', '10213401737335928', '1532260126834371', '10154597524691479', '10155404471078548', '10158882655745234']"
   ]
  },
  {
   "cell_type": "code",
   "execution_count": 7,
   "metadata": {},
   "outputs": [
    {
     "name": "stdout",
     "output_type": "stream",
     "text": [
      "133\n"
     ]
    }
   ],
   "source": [
    "total_users = [user for user in total_users if user not in (no_message + foreigners)]\n",
    "print(len(total_users))"
   ]
  },
  {
   "cell_type": "code",
   "execution_count": 8,
   "metadata": {},
   "outputs": [],
   "source": [
    "user_dict = {'male': [], 'female': []}\n",
    "for user in total_user_with_gender:\n",
    "    if user[0] not in (no_message + foreigners):\n",
    "        if user[1] == 'male':\n",
    "            user_dict['male'].append(user[0])\n",
    "        else:\n",
    "            user_dict['female'].append(user[0])"
   ]
  },
  {
   "cell_type": "code",
   "execution_count": 9,
   "metadata": {},
   "outputs": [
    {
     "name": "stdout",
     "output_type": "stream",
     "text": [
      "male: 79\n",
      "female: 54\n"
     ]
    }
   ],
   "source": [
    "print('male: ' + str(len(user_dict['male'])) + '\\nfemale: ' + str(len(user_dict['female'])))"
   ]
  },
  {
   "cell_type": "code",
   "execution_count": 10,
   "metadata": {},
   "outputs": [],
   "source": [
    "# Filtering urls\n",
    "def filtering_url(messages):\n",
    "    filtered_messages = [re.sub('http[s]?://(?:[a-zA-Z]|[0-9]|[$-_@.&+]|[!*\\(\\),]|(?:%[0-9a-fA-F][0-9a-fA-F]))+', '', message.replace('\\n', '').replace('\\r', '')) for message in messages]\n",
    "    return filtered_messages"
   ]
  },
  {
   "cell_type": "code",
   "execution_count": 11,
   "metadata": {},
   "outputs": [],
   "source": [
    "# Mapping user posts\n",
    "def get_posts(users):\n",
    "    posts_dic = {}\n",
    "    for user in users:\n",
    "        # print(user)\n",
    "        posts = list(elasticsearch.helpers.scan(es, query={'query': {'match': {'user_id': user}}}, index='facebook', doc_type='post'))\n",
    "        messages = [post['_source'].get('message') for post in posts if post['_source'].get('message') != '']\n",
    "        #print(message)\n",
    "        filtered_messages = filtering_url(messages)\n",
    "        posts_dic[user] = filtered_messages\n",
    "    return posts_dic"
   ]
  },
  {
   "cell_type": "code",
   "execution_count": 12,
   "metadata": {},
   "outputs": [],
   "source": [
    "total_posts = get_posts(total_users)\n",
    "male_posts_dict = get_posts(user_dict['male'])\n",
    "female_posts_dict = get_posts(user_dict['female'])"
   ]
  },
  {
   "cell_type": "markdown",
   "metadata": {},
   "source": [
    "# Using jieba as Chinese tokenizer, and calculating TFIDF"
   ]
  },
  {
   "cell_type": "code",
   "execution_count": 13,
   "metadata": {},
   "outputs": [],
   "source": [
    "# Using jieba to tokenize user posts\n",
    "def tokenize_posts(user_posts):\n",
    "    seg_posts = {}\n",
    "    for key, messages in user_posts.items():\n",
    "        seg_posts[key] = [' '.join(jieba.cut(message, cut_all = False)) for message in messages]\n",
    "    return seg_posts"
   ]
  },
  {
   "cell_type": "code",
   "execution_count": 14,
   "metadata": {},
   "outputs": [
    {
     "name": "stderr",
     "output_type": "stream",
     "text": [
      "Building prefix dict from the default dictionary ...\n",
      "Loading model from cache /tmp/jieba.cache\n",
      "Loading model cost 0.695 seconds.\n",
      "Prefix dict has been built succesfully.\n"
     ]
    }
   ],
   "source": [
    "male_seg_posts = tokenize_posts(male_posts_dict)\n",
    "female_seg_posts = tokenize_posts(female_posts_dict)"
   ]
  },
  {
   "cell_type": "code",
   "execution_count": 15,
   "metadata": {},
   "outputs": [],
   "source": [
    "# Display tfidf score\n",
    "def display_scores(vectorizer, tfidf_result):\n",
    "    # http://stackoverflow.com/questions/16078015/\n",
    "    scores = zip(vectorizer.get_feature_names(),\n",
    "                 np.asarray(tfidf_result.sum(axis=0)).ravel())\n",
    "    sorted_scores = sorted(scores, key=lambda x: x[1], reverse=True)\n",
    "    index_scores = []\n",
    "    for index, item in enumerate(sorted_scores):\n",
    "        index_scores.append((index, item[1]))\n",
    "    return sorted_scores"
   ]
  },
  {
   "cell_type": "code",
   "execution_count": 16,
   "metadata": {},
   "outputs": [],
   "source": [
    "def calculate_tfidf(seg_posts):\n",
    "    corpus = [segment for key, segments in seg_posts.items() for segment in segments]\n",
    "    tfidf_vectorizer = TfidfVectorizer()\n",
    "    tfidf = tfidf_vectorizer.fit_transform(corpus)\n",
    "    tfidf_features = tfidf_vectorizer.get_feature_names()\n",
    "    \n",
    "    sorted_scores = display_scores(tfidf_vectorizer, tfidf)\n",
    "    return sorted_scores"
   ]
  },
  {
   "cell_type": "code",
   "execution_count": 17,
   "metadata": {},
   "outputs": [],
   "source": [
    "male_tfidf_scores = calculate_tfidf(male_seg_posts)\n",
    "female_tfidf_scores = calculate_tfidf(female_seg_posts)"
   ]
  },
  {
   "cell_type": "code",
   "execution_count": 18,
   "metadata": {},
   "outputs": [],
   "source": [
    "male_bag_of_words = [word[0] for word in male_tfidf_scores[:100]]\n",
    "female_bag_of_words = [word[0] for word in female_tfidf_scores[:100]]"
   ]
  },
  {
   "cell_type": "markdown",
   "metadata": {},
   "source": [
    "# Graph-based word categorization"
   ]
  },
  {
   "cell_type": "code",
   "execution_count": 19,
   "metadata": {},
   "outputs": [
    {
     "name": "stdout",
     "output_type": "stream",
     "text": [
      "CPU times: user 544 ms, sys: 0 ns, total: 544 ms\n",
      "Wall time: 555 ms\n"
     ]
    }
   ],
   "source": [
    "%%time\n",
    "word_index = {}\n",
    "index = 1\n",
    "\n",
    "#Building word index dictionary\n",
    "for key, messages in total_posts.items():\n",
    "    for message in messages:\n",
    "        for word in list(message):\n",
    "            if word not in word_index:\n",
    "                word_index[word] = index\n",
    "                index += 1"
   ]
  },
  {
   "cell_type": "code",
   "execution_count": 20,
   "metadata": {},
   "outputs": [],
   "source": [
    "def building_weighted_graph(word_graph):\n",
    "    weighted_word_graph = {}\n",
    "    # Finding the maximun value of word frequency\n",
    "    max_freq = max(word_graph.items(), key=operator.itemgetter(1))[1]\n",
    "\n",
    "    for key, value in word_graph.items():\n",
    "        weight = value / max_freq\n",
    "        weighted_word_graph[key] = weight \n",
    "    return weighted_word_graph"
   ]
  },
  {
   "cell_type": "code",
   "execution_count": 21,
   "metadata": {},
   "outputs": [],
   "source": [
    "def building_word_graph(user_posts):\n",
    "    word_graph = {}\n",
    "    for key, messages in user_posts.items():\n",
    "        for message in messages:\n",
    "            words = list(message)\n",
    "            \n",
    "            for i in range(len(words)-1):\n",
    "                if (words[i], words[i+1]) not in word_graph:\n",
    "                    word_graph[(words[i], words[i+1])] = 1\n",
    "                else:\n",
    "                    word_graph[(words[i], words[i+1])] += 1\n",
    "    weighted_word_graph = building_weighted_graph(word_graph)\n",
    "    return weighted_word_graph"
   ]
  },
  {
   "cell_type": "code",
   "execution_count": 22,
   "metadata": {},
   "outputs": [],
   "source": [
    "male_weighted_graph = building_word_graph(male_posts_dict)\n",
    "female_weighted_graph = building_word_graph(female_posts_dict)"
   ]
  },
  {
   "cell_type": "code",
   "execution_count": 23,
   "metadata": {},
   "outputs": [],
   "source": [
    "import networkx as nx\n",
    "import plotly.plotly as py\n",
    "from plotly.graph_objs import *"
   ]
  },
  {
   "cell_type": "code",
   "execution_count": 24,
   "metadata": {},
   "outputs": [],
   "source": [
    "G = nx.random_geometric_graph(200, 1)\n",
    "# position is stored as node attribute data for random_geometric_graph\n",
    "pos = nx.get_node_attributes(G, 'pos')"
   ]
  },
  {
   "cell_type": "code",
   "execution_count": 25,
   "metadata": {},
   "outputs": [],
   "source": [
    "edge_trace = Scatter(\n",
    "    x=[], \n",
    "    y=[], \n",
    "    line=Line(width=0.5,color='#888'),\n",
    "    hoverinfo='none',\n",
    "    mode='lines')"
   ]
  },
  {
   "cell_type": "code",
   "execution_count": 26,
   "metadata": {},
   "outputs": [
    {
     "name": "stdout",
     "output_type": "stream",
     "text": [
      "不要~~~很痛><....................標珩彤\n",
      "Boo要這樣Brook Lopez QQ我還沒去看你打球...謝謝你陪籃網走過這些年儘管戰績不佳，歷經搬家也搭配過Vince Carter Delvin Harris Deron Williams到現在的Lin真的很喜歡你的投籃還有打板中距離以及上個球季練成的三分線去湖人加油籃網的1號位該由Lin還是DLO?雖然很喜歡林書豪但有那麼有天分的一號位或許第六人更適合林一大早就很不捨QQ我愛大羅Let's Go Nets!\n",
      "多學多聞多問成功三要件·...........放屁啦，每次問個問題就崩潰我是要問什麼鬼學什麼毛啊⋯⋯\n",
      "今年終於如願加入了活動組或許是種羨慕吧還記得當初問饅頭:妳會不會後悔找我加入活動組饅頭說:不會阿 這給我很大的鼓勵 很怕自己做不好其實謝謝柯柯 我知道你沒有我帥 可是你也不要氣餒 動組有你CARRY真的很棒 還記得有一天你在幫忙做火球 在那邊鬧脾氣 真的很好笑 很低能 辛苦了 上樑不正 這很難不去聯想就是說吼....謝謝饅頭 謝謝妳當初找我進動組 希望沒有讓妳後悔 動組有妳CARRY真的很讚 雖然小潘很變態 在動組大家的心目中妳根本是女神 真的很謝謝妳跟ㄎㄎ的包容與體貼 沒有你們 就沒有我們動組謝謝我的PARTNER馬小 真的很高興很跟你分在一組 太神拉 這是命運的安排 還記得一開始載你去發傳單 你就把手插進去我的口袋 其實還蠻害羞的哈哈 你真的太有才了 火球.賭場.大地各種CARRY 沒有你我都不知道該怎辦了 真得很感謝<3謝謝動組的夥伴 每天雖然充斥著髒話.變態的話 可是我很愛這種相處模式 大家一起忙一起瘋一起嘿嘿一起當農奴一起完成這次電資 大家真的超猛 舞.戲.大地.火線.賭場.RPG.夜教.主持等等.....真的不能不說我們是地表最強的活動組團隊  這次電資營讓我覺得最慶幸的是我認識了你們 有你們的的活動組才是活動組 謝謝你們讓我找回了自己最終也是最初的感動 以後一定要常常吃飯.聊天.內戰 愛你們謝謝2014電資營MISt strEEt全體工人 雖然過程中沒有盡善盡美 可是我們都努力過了 我們一起征服了 這樣就已經足夠了 YA有好多好多話想說 是我不夠體貼 總之辛苦了 嗯嗯哈哈嘻嘻嘿嘿亨亨嘖嘖蹦蹦QQㄜㄜ嗚嗚七槍七槍電資營讓我覺得最慶幸的是真的真的我認識了動組的你們\n",
      "明年上班....等開學嘍！\n",
      "太酷惹，希臘新財務部長原本的工作是在 Valve（經營 Steam 遊戲平台，橫跨 PC/XBOX/PS/MAC，也是出品 CS、戰慄時空遊戲的公司）擔任維持遊戲裏經濟體的角色，超～～～酷的，居然真的有這種工作。好吧，雖然有點死馬當活馬醫的感覺，但是希臘加油！\"My intention at Valve, beyond performing a great deal of data mining, experimentation, and calibration of services provided to customers on the basis of such empirical findings, is to to go one step beyond; to forge narratives and empirical knowledge that (a) transcend the border separating the ‘real’ from the digital economies, and (b) bring together lessons from the political economy of our gamers’ economies and from studying Valve’s very special (and fascinating) internal management structure.\"\n",
      "j'irai (bien) dormir chez Obama...\n",
      "還記得當時OO離開以後，我曾經說過不會在養老鼠這種腦袋小的動物因為緣份讓我在去年撿到你，一直覺得撿到老鼠真的是很扯的一件事情，但是沒想到從我們相遇也過一年多了今天回家的時候，發現你已經身體僵硬不斷的抽搐，也不知道是不是在等我回家，把你抱到手中摸摸你的頭，結果你竟然開始慢慢的流淚.....我不知道這一年多來你到底知不知道我是誰，不過撿到你真的是我們的緣份，讓我這一年多的生活多了一些樂趣，謝謝你\n",
      "已經 看了整晚的彈幕....Orz\n",
      "Created with facebook.com/celebratepride\n",
      ".\n",
      "...\"鞏固「九二共識」，維持和平現狀。海峽兩岸在1992年11月就「一個中國」原則達成的共識，簡稱「九二共識」。\"...?????\n",
      "頗有商業頭腦的....\n",
      "0.0\n",
      "好開欣>///<可是這圖怪怪的...Yi-cheng Chuang在幹嘛 -_-\n",
      "台灣人地震應變守則1.上PTT2.上FB ←目前進度\n",
      "【馬上來參加「 我最喜愛的神魔模特兒」活動，參加就送魔法石 5 粒！#神魔之塔「 我最喜愛的神魔模特兒」活動網址：www.tosmodel.com】\n",
      "記得演算法筆記... 以前應該不是長這樣的啊 XDDDDD<3 Algorithm <3~u91029/\n",
      "吃晚餐對面坐著一對母子媽媽念著兒子：「你看看你剛剛度數變這麼重，這裡這麼暗不要再滑手機了！」兒子：「好嘛，我知道了」語畢，母子倆靜靜的滑手機果然...嘴巴說不要 身體是誠實的\n",
      "今天CPE寫了一題把a到b範圍內所有奇數都加起來的題目,這種題目我竟然怎麼上傳都不對,讓我開始對自己的程式能力深深的感到質疑,想著我是不是該回去唸大一,怎麼想都想不出會有哪裡錯,仔細一看發現程式右上角竟然寫\"編譯不成功,函式庫未設置完全\"什麼鬼的,但是換了別種語言和編譯器再跑有永遠有這鬼東西第一次問工作人員說是我code可能哪裡有錯,測了老半天還是找不出哪裡可能錯,第二次再問才要我先寫別題,過了一會兒才過來叫我把code存檔,題目關掉重開然後我直接上傳就對了 就對了 就對了......草.......草尼瑪阿......爛系統還我一個半小時啊混蛋╰(〒皿〒)╯為什麼別人當機可以補時間,我被系統搞就沒跟我講可以補,然後再說我其實可以寫別題,我哪知道上傳不過會是系統搞的╰(〒皿〒)╯╰(〒皿〒)╯╰(〒皿〒)╯╰(〒皿〒)╯╰(〒皿〒)╯╰(〒皿〒)╯\n",
      "這......\n",
      "身上的案子要連客戶的舊資料庫，可是到現在還沒看到schema只能自己用假資料，到時候資料型態什麼的不一樣就崩潰了...\n",
      "開車門前...記得  請先看後面有沒有車再開不然你的車門可能會被刮到而且而且而且   還會有人受傷！。。。\n",
      "原來是~我家.....隔壁區\n",
      "HBL高級中等學校籃球甲級聯賽松山 v 高苑 主播阿萌 ft. 賽評狗熠 熱身賽前講評\n",
      "我要一個...吃十個😋#vonvon\n",
      "啦啦啦啦啦開始懷念布達佩斯的店員了...\n",
      "When you try your best but you don't succeed....Stuck in riverrrrrrrahhhherrrI will try~~ to fix you!\n",
      "真的是充滿挫折的一個禮拜從文社壘球到大財籃球我真的沒想到文社壘球冠軍戰就這樣結束了真的很想再衝擊冠軍一次謝謝來比賽、來支援人手、來現場觀戰.照顧傷患、在遠方為我們加油的各位讓我棒壘生涯的觀眾人數在數十場後終於突破0也算是圓了一個原本已死的夢想我也沒什麼好表現就一次左外野雷射肩吧而我也終於認清我右手的傷根本沒有好轉只有惡化很開心能跟大家一起奮戰到比賽的最後一刻以後還能不能站在任何球場上，我也真的不知道了也謝謝偉傑讓我雷了生涯第一場系際盃羽球單打小輸9分還行還行XD難得今年大財盃籤運還不差實力其實也相去不遠真的不想就這麼結束我當教練的這一年到現在連個像樣的成績都拿不出來真的是感到非常抱歉謝謝大家容忍我尺度無上限的屁話也感謝各位壘球夥伴、啦啦隊、比賽限定系羽團以及長久以來系籃夥伴們還有科管戰神人很多可能沒標到但還是由衷的感謝你們\n",
      "我竟然看完他了...\n",
      "一個超商工讀生把咖啡優惠算錯又忘了用自帶保溫瓶裝我不忍罵她.....看她還挺可愛的份上(下班後才發現悠遊卡忘在超商，但她已下班😂(第二天再去取寄杯還是沒看見她，so sad!END\n",
      "从总体上看，我差不多懂了；反观其中部分写作细节，我又不懂了........btw瞿秋白是常州人☺️☺️👏👏\n",
      "這是一個朋友拍的短片。他算是我遇過最勇敢追夢的人。很多年輕人包括我，對於未來的不確定感總是存在著焦慮，甚至往往認為好好讀書升學，當完兵，找份收入優渥的工作，滿足父母的期望就是幸福的人生。We are not born to please anyone.一個進了土木工程系卻堅持當導演夢想的人，當他跟我說金馬60他要上台領獎時，我從來沒有懷疑過。而珍貴的就是這種不食人間煙火的勇氣，也是我所沒有的。九分鐘的影片，點進去，按個讚，我們就都是曾經參與這段過程的人。Directed by Andy Chang\n",
      "最喜歡的還是這首啊...QQ\n",
      "\b投影幕轉接器在口試前一天消失請問單兵應該如何作戰，以下開放解惑1.  該買一條新的2. 等一個機會3. Bang4. 簽\n",
      "宋冬野，大麻事件之後。忘記在哪一篇文章中看到的，好像是中國網民的論壇吧，說麻油葉那群人就是一群裝逼的烏合之眾。雖然說負面消息好像沒斷過但是那些產出的音樂作品真的是品質滿不錯呢...宋冬野最新這兩首《郭源潮》和《空港曲》一如往常得讓人期待現場，這首空港曲間奏和Ｂ段的洞簫(?)真是美極了，也是生活環境的差異吧，台灣的作詞人很少寫那些江河湖海的故事，而這些大山大海在宋冬野的口中都變成浮躁但深沈的都會故事了。\n",
      "剛剛要下樓拿衣服，突然遇到天然呆 王虹婷。我：妳來這邊幹嘛？王：我來吃飯啊 (理所當然的樣子）我：喔！可是我在忙沒時間煮飯啊。王：可是 桂郡甫說有誒，難道我被騙了？我：喔我知道了，他們在隔壁棟 黃士庭家吃飯啦。       我去幫妳開門。(走到246幫她開完門)王：為什麼我要來這裡？我 : ...小桂，下次你也幫幫忙不要再讓天然呆迷路好不？不然她老公們會生氣誒！還有王虹婷你可以在高能一點...\n",
      "[分享] 人生第一次開刀-盲腸炎        原以為這天還是一樣，是一個平淡的軍旅生活，沒想到這天早上起來肚子感覺有些異樣的疼痛，起初以為沒什麼大不了的，也就沒什麼在意，背著墨綠包裝著一本簿冊和幾份資料就一樣前往一個洞穴一般的地方，坐在椅子上後，又開始展開一天的例行公事，察看監視影像、察看外界資訊，還有把簿冊跟那些資料寫成它應該有的模樣，寫著寫著越發能感覺肚子的疼痛，不過還是淡定的繼續寫，想說應該痛一段時間就會好轉，將該寫的東西寫完之後，實在是無法再忍受那一陣一陣的絞痛，索性就直接趴在地上以求腹部疼痛的舒緩，趴了一陣子起來之後，瞬即又深刻體會那絞痛，於是又趴了下去，如此趴趴起起了幾次之後索性就直接趴著，趴到最後，那疼痛感覺有了更進一步的成長已非趴著能夠抵禦，我就直接起來回去找其他弟兄想說看能不能借到胃藥，不過借了數個都沒借到，就又回去洞穴繼續待命。     到了中午要吃飯的時候，我就再請幫我送飯的弟兄請他回去再幫我跟其他弟兄或副連長借胃藥，因為真的快不行了，等了許久想說應該是沒借到，很想趕快跑回去，不過那絞痛令我連站直身體都有難度，所以彎腰硬走回去找那位弟兄確認，確認沒有之後就直接去找副連長，問說看能不能直接去便利商店買胃藥?在問的一瞬間其實就已經知道答案了，不過還是多少希望能得到不一樣的答案，副連長說不行，因為還沒到晚上規定可以出去的時間，副連長摸我的肚子說再忍一下，雖然跟三連的副連長不熟，不過可以感覺得出他是個親切講義氣的人，所以也不怪他因為軍中的規矩就是這樣，後來想說就直接請今天收假的弟兄回來的時候順便帶一下胃藥，返回洞穴待到晚上7點可以下班的時間之後，把該帶的東西打包收拾，拿著中午未開封的餐盒，努力的走完這段回去的路程，這還是我第一次體會到，原來這段路是這麼煎熬。    回去跟副連長報備之後，把該卸的東西卸了一卸，還有中午晚上沒吃的餐盒倒了一到洗了一洗之後，就直接趴到床上，這時候腹痛又有了更進一步的進化，從原本的一陣一陣變得更綿密甚至變的連續不間斷，好像真的快往生可是卻又不往生，服兵役這段時間看淡了許多東西，也變得更加樂觀主義派，想說吃苦當吃補，這是個上天給我磨練意志的機會，磨練到了最後總算等到了胃藥這包仙藥，拿了之後就直接開封喝水吞下去，隔了一陣子，想說這仙藥的藥效還真是慢，再隔了一陣子，感覺還是沒有絲毫作用，心裡想說再這樣等下去不行，等這藥效發作，人應該就已經進棺材，於是又拖著痛的無以復加的身體再次去請求副連長看能不能出去轉診，副連長看我一副快死的樣子，將我的情況回報給連長，不久後終於獲得了能出去看病的許可，聽了朋友的建議決定先去小診所，因為大醫院光是排隊就不知道要到民國幾年，手機查了間小診所後就請弟兄載我到那個地方。    一到之後才發現原來是間小兒科，我詢問那裏的護士有沒有在看腸胃科，護士說有，我耐心的把一些基本個資寫一寫且將健保卡遞過去，抽了號碼牌之後又是一陣的等待，坐在板凳的時候，因為絞痛所以直接將上半身貼到大腿上，已經顧及不了其他人的眼光甚至沒有心思去理其他人，有時甚至蹲到地上抱著雙腿像失智老人一般，數個號碼過後，聽到護士喊我的名字的時候，好像在那剎那獲得了救贖，我使盡吃奶的力氣起身走進去看診跟醫生說明情況，醫生以手指觸診初步判斷是腸胃炎，看完之後醫生幫我打了劑止痛針，心中一直期待這止痛針能發揮它的功效，不過等了一段時間，還是沒有感覺這止痛針神奇的地方，又再一次詢問護士，護士微笑的說這止痛針需要比較長的時間才能發揮它的功效，聽到這個殘酷的事實之後，我回板凳上把醫生開的藥服了一服又踏上回營區的旅程，這一段旅程每一步都是一種享受，享受肚子快炸掉的感覺，享受須要用盡千斤力氣提起每一步的感覺，還有享受眼前這片美麗的雨景，雖然有點傻眼，不過還是凝聚起僅存的意志力走到便利超商買了件雨衣，店員說這件可能不合你的尺寸，我說沒關係就直接掏錢結帳，因為在這裡要找到合我的尺寸的雨衣感覺是天方夜譚，我直接將新買的雨衣套下去後就坐上機車冒雨直衝回營區。    回營區跟副連長報備之後，我就回到自己床上就寢，不過根本痛到睡不著，翻來覆去始終尋不到一個舒緩的姿勢，最後就直接坐起來盤起腿將上半身貼到大腿上，看似在練一玄妙的武功，實則已快圓寂矣，我有事沒事就喝水，有時就走下床上廁所，這段時間其實有一種想吐卻又吐不出來的感覺，等到快換我執勤衛哨的時候，我又再度去找副連長說沒辦法執勤，其實在稍早之前我就有跟他說我今天的狀況真的很差，不過他說還是先暫定這樣，因為我們人數真的很少沒辦法調度，他說如果你真的不行的話，我的大門隨時為你而開，於是當晚我就依約來敲這扇大門，路走到一半的時候吐出一堆不知是甚麼東西的東西，因為今天一整天幾乎都沒什麼進食，所以也很驚訝能吐出東西，剛好有一個弟兄經過，他就去廁所拿了拖把，我接過他的拖把說沒關係我自己弄就好了，因為真的挺噁的，把穢物清完了之後，就蹲在安官桌旁休息了一陣子，原以為吐完之後身體會好些，不過情況還是沒有改善，正在執勤的弟兄跟我說了一堆他之前得腸胃炎的經驗，啥要死不活諸如此類，不過當下根本痛得聽不進去，腦海已經一片空白，起初還有嗯嗯喔喔的回應，後來已經達到左耳進右耳出的最高無視境界，不過他還是講的很起勁，一會兒後，我又起身去跟副連長報備，然後回到床上繼續坐那奇怪的練武功姿勢，心裡想說都已經過了4小時多，藥也吃了第二包，但止痛針跟藥好像都石沉海底，護士講的藥效時間還真是漫長，內心一直在等待藥效發揮作用，不過隨著時間分分秒秒過去，肚子還是一直處於一個絞痛到快炸裂的狀態，那一個夜晚是個折騰的夜晚，是個無止盡的夜晚。    第二天一早部隊起床，雖然大家執勤衛哨辛苦，但至少還是有些朝氣，我則是快變殭屍，有弟兄說我臉色看起來頗蒼白，感覺不意外，在副連長的強迫下硬吃了早餐半片吐司後又回到床上，到最後已經連藥都不想吃了，因為有藥亦無藥，於是下床再請求副連長二度轉診到林口長庚，副連長詢求連長的同意之後，一位弟兄跟我就騎機車直奔醫院，到了之後，弟兄幫我詢問服務台腸胃科的位置，服務台說看你的緊急性，一般門診的話要排隊掛號3-4小時，很急的話就直接直走到底左轉，聽完後感覺沒什麼好猶豫，直接直走左轉掛急診，雖說是急診也是等了快1-2小時才看診，進去之後也是先跟醫生說明狀況，醫生說我的狀況有兩種，一種是腸胃炎，另一種是盲腸炎，如果是後者的話今天就沒辦法走，因為要開刀住院，我心想沒辦法走當然好阿，不過聽到開刀臉都綠了，據醫生描述這種痛會從肚子中間開始然後一路延燒到右側，仔細感覺了一下好像右下腹部真的有塊明顯的疼痛，根據昨天吃藥的經驗還有我的直覺99%是後者無誤。     初步看完診後，第一件事情就是先去打止痛針，雖然有了昨天不好的回憶不過還是抱持著姑且一試的心態，之後就是一連串的到各站跑檢驗，抽血、驗尿、X光、斷層掃描等，好不容易跑完之後還是要再等1.5-2小時的檢驗報告，在等待的過程中漸漸的可以感受到止痛針的效果，可以坐得比較直，甚至漸漸入睡，大醫院的止痛針果然威力十足，再度看診的時候醫生說確定是盲腸炎，要辦理開刀住院會請外科醫生跟我討論，我心想開刀就開刀吧，要我再經歷這兩天的體驗不如直接開刀來個痛快，過了一段時間終於等到了外科醫生，他也是說盲腸炎的話建議直接開刀，我心中還是猶豫了一下，畢竟是人生第一次開刀，我說我先跟我家屬講一下，也要完成一連串的回報因為我還在服兵役，我打電話跟媽說我要開刀的時候，媽一開始也是以為我在開玩笑，因為這是我發病後第一次打給我媽，問過護士後，手術麻醉的時候建議一定要有直系親屬在旁邊，朋友也是可以，不過就是怕發生意外，雖然一開始是想說請弟兄幫我看著就好，不過後來想說這樣他壓力太大就算了，最後還是請偉大的母親來醫院一趟，跟媽講完後就是跟軍中回報，首先第一道關卡就卡關，副連長還是希望我能回營區，問說能不能以藥物控制穩住病情，於是我再度去詢問外科醫生，醫生沉重的說：「我也是當過兵的男人，身體是你自己的不要去管他們怎麼說，你的這種情況還是建議直接開刀，因為就算回去了還是很容易復發」，聽完之後其實有些感動，於是我再度跟副連長說明情況並說自己想開刀後，副連長妥協了，之後他跟連上回報後又再度來電說要我跟連上輔導長回報，我跟輔導長回報完後，輔導長說你媽媽到醫院的時候、要開刀的時候、開刀結束的時候、住院住哪間病房都要一一回報，我說沒問題。     等到我媽來醫院的時候，那時已經是下午4點，我人躺在臨時病房的病床上，再來就是等手術的開始，之前有問過醫生說手術大概是什麼時候開始，他說如果你已經決定要開刀的話隨時都可以開始，一個人躺在病床上的時候，我不會去想過去的事情也不會想未來的事情，我只想閉目養神或者看著天花板和人來人往放空發呆，人本就是活在當下的動物，再怎麼想都沒有意義，這時候來了通電話，XX:「你好，請問是林先生嗎?」我：「是，請問你是?」XX：「我是昨天的小兒科診所，想問你服藥後的情況如何?」我：「我後來又到長庚掛急診，後來診斷是盲腸炎，現在在病床上等開刀」XX：「啊，是這樣子阿，那你好好休息囉」我：「恩，掰掰」，掛完電話後，我笑了一下，不過會誤診也不稀奇，因為那醫生只用觸診，等到晚上7點的時候，護士將我轉到我的病房，雖然說已經快將近兩天沒進食只有吃半片吐司，肚子的飢餓感也不會很強烈，不過就是想喝點水因為有點口乾舌燥，但是手術前是禁止飲食的，到我的病房等了一陣子後，想說就先熄燈睡覺，等到了半夜1點，護士進來通知我們說要開刀了，我想說終於可以上路了，等這一刻等好久，這之間我跟我媽接了許多輔導長的LINE和電話，我們都跟她說還沒開刀，到要開刀的時候，我請媽再打一通電話給輔導長回報，電話沒通，我說好吧，她應該已經睡了，我們已經盡責了，手術房進到一半的時候又有了另一段插曲，有個車禍大腿傷殘的病患被推了進來，醫生說要先請我們等一下要先治療這位病患，此時心中有兩個我，一個我說這個當然，他情況比較嚴重當然先醫療他比較要緊，另一個我說哇賽，這一下不知要等到何年何月，這時候止痛針的藥效已逕開始退了，又是個鍛練意志力的時刻，而且那裏的冷氣又強， 坐一陣子後，媽跟我說到外面等我，我說好，其實媽本就不必跟我一起受罪，要鍛練意志力我一個人鍛練就好。      過了一段時間，護士經過問我說：「你媽呢?」，我說：「她在外面」，她又問我說：「你們會冷嗎?」我說：「會」，於是她給我一些熱騰騰的布料，還有給我媽一件毯子，雖然布料是很溫暖，不過只是披著而已，風還是會從其他地方透進來，不過已經很感謝護士了，就這樣等到了早上4點，終於可以進手術室，裡面的醫生護士都很親切會先跟你聊天消除緊張，百年不變的話題一定是身高，我也一樣百年不變回答，躺上手術床的時候腳超出了床外一些，我說：「這樣會影響手術嗎?」，醫生親切的說：「不會」，這時候就開始麻醉了，麻醉開始沒幾秒後就已經不知不覺沒意識，手術的過程也不會有任何感覺，再次醒來的時候是被護士叫醒，剛醒的那瞬間好像來到天堂，因為天花板的燈十分耀眼，不過下一秒就回到現實，護士將氧氣罩壓到我嘴上協調我的呼吸，沒多久後，我就被運回我的病房，護士們以一神奇的手法將我滑到病床後，就開始幫我打點滴，這時候的身體有點軟弱無力，不過最大的主因是因為肚子的開刀，很多的動作都會用到腹部的肌肉，舉凡上下床、坐直站直、走路，只要一牽引到腹部的肌肉就會感到不適，所以感覺每一動作都好像是在復健，術後也不會有甚麼食欲，不過在媽的強迫下還是吃了點東西，將東西吃下去後可以清楚感覺到食物消化，因為在消化的過程中會有一陣一陣的絞痛，最令我難忘的是那瓶活益比菲多，因為沒什麼食慾就想說喝點酸酸甜甜的東西，喝下去後痛完一輪，又是一輪，再接著好幾輪，這也證實了寡糖真的可以促進腸胃蠕動，住院3天回家後，會一直想拉肚子，每隔1小時以內就想會去廁所，起初以為自己又得了甚麼疾病，打電話詢問護士後才得知是因為要排除在醫院施打的抗生素，而且這一、二個月沒辦法提重物，現在最大的願望就是希望趕快康復!最後感謝 陳繁齊 那天幫我站哨，一天站5班哨真的太狂了感謝 吳東衡黃貫鳴 的胃藥，雖然最後沒派上甚麼用場 呵感謝 陳彥軒鄭竣和 執勤衛哨之餘騎機車載我到醫院看病感謝看護 賴良維學弟當然最要感謝的還是我偉大的母親 Su Chin Chung\n",
      "感謝大家送上的祝福和labmates的大蛋糕～這讓我發現原來除了銀行和各類基金，還是有很多朋友關心我的……P.S. 蛋糕也太醜了……Big surprise to the big cake and big attendance!Thank you!\n",
      "你以為你多益聽力對多國口音很強嗎? 聽完這個你就哭了...\n",
      "要等到5月中了...\n",
      "操  要玩是不是...來阿   幹你媽的廢物 了不起喔  都不揪阿  怕你喔   媽的一整天的好心情全被你搞爛有種就來  怕你不敢  !!\n",
      "最近”独身貴族”というドラマを見ました、いいドラマだと思います。皆に薦めたいです。最近看了一部「單身貴族」日劇，很好看，推薦給大家。Recently I saw a Japanese drama called \"Dokushin Kizoku\", very nice!I want to recommend it to everybody.\n",
      "Kidnap my heart. Make my dreams come true. Take me away cause falling in love. Ain't very far、not far from the start .\n",
      "平安到家了感謝的文章之後再說 先怒洗洗睡現在有76.7kg 還請大家看到我的時候要努力認出我來\n",
      "水豚-.-好治癒喔喔!!!!\n",
      "一年前的今天好像連PA是啥都不知道一年後的現在坐在控台的時間都快比教室多了但到頭來還是比較喜歡一群人在226練舞練到半夜明明就是今年初才參加的電資營大資盃感覺起來卻像是上輩子的事了短短一年經歷了一堆事大概是這輩子最忙的一年了忙到連自己現在幾歲都要想好久還是不太確定...上了沒幾堂課就去考試然後莫名其妙就拿到了證總覺得有點太容易但到了現在每次出場每次觀摩都還一直學到新東西越來越想知道那時什麼都不會的我到底怎麼考到的...當完一半的兵了照理說應該是半個男人了...吧...也許學到的東西很沒用但至少有所成長了去過地獄才會知道人間的美好雖然明年還要去一次想到就很幹...這學期完全沒有一刻的空閒從暑假還沒結束就開始的宿營到後來的抽直屬啦啦隊男排隊長運動會系烤系友會聲光社各種耶晚電資營短短一學期不到能做那麼多事情也是很厲害原本還想很豪爽的說我很堅強的經歷那麼多次淋雨全身濕半夜不睡覺每天跑器材室每天待在小禮堂各種操勞結果身體還是撐不住垮了只好把今年最後幾天都拿來睡覺很喜歡為喜歡的事物努力的自己可是往往澆熄熱情的也是自己喜歡的事物一直提醒自己做事的初衷讓自己有繼續走下去的動力很羨慕妳能有個目標既然有夢想就好好的朝它衝過去吧為了夢想放棄一些東西是難免的正因為我們所做的犧牲才讓夢想更美不是嗎看到妳的卡片裡的最後一句真的很開心很感動因爲沒有從他們身上得到想要的所以不希望妳們跟我們一樣雖然能給妳的真的不多但至少把能給的都給了好好把握現在所有的吧不要讓以後的自己後悔了加油吧大學的三個學分學業還可以社團還不錯好像就只差愛情了齁....沒有目標沒有夢想只好拚命往前跑往上爬好讓夢想出現時可以不顧一切拋下所有擁抱夢想\"會器材了不起喔\"...?再見的2014歐不對...是永別了2014我們不會再見了\n",
      "最近歷經許多大風大浪先是前前後後搬家3次，然後清境農場霧霧雨雨羊羊，程式和籃球爛頭焦額...最機車的是心血來朝洗被單晾結果颱風來，禮拜一才能收...對了，印象中似乎窗戶沒關\n",
      "剛剛在夢夢到自己在廁所尿尿結果醒來床有點...哈哈你們懂得\n",
      "哈囉大家好，我們是做傳統市場的第九組，打擾大家了。前陣子我們有做了問卷，調查傳統市場對於年輕人的價值和疑慮。於是我們想透過「市場地陪」這個角色，協助市場新手體驗更多他所不知道的價值與樂趣。目前，我們將地陪設定在：「對市場非常熟悉，且時間上較寬裕的中、老年婦女」。根據部分調查顯示，這類族群常會有空巢症候群帶來的失落感和寂寞感。我們設想了能透過市場地陪，帶給她們以下這些價值，但因為未經測試無從驗證，也許還有更多潛在的價值沒有被發現。1.在熟悉領域備受肯定2.能與年輕世代溝通3.能有目標任務可以做4.排解內心的空虛寂寞為實際驗證和修正此媒合模式，我們想進行一次真實的雙方媒合。在這邊想詢問大家家中的媽媽或奶奶，是否有符合以上地陪的設定，且願意與我們來一次市場地陪體驗，並給予體驗後的回饋。-------以下為市場地陪招募資訊年齡：45 - 65 歲 ↑  性別：女性條件：1. 平時會與攤販互動，且對市場熟悉2. 願意溝通並協助解決年輕人的疑惑3. 時間上較為寬裕，平時沒什麼事情可做日期：05/03（二）19:00 前（事前會先與地陪共同討論模式）地點：台北市、新北市，可配合地陪熟悉的市場車馬費： 1000 新台幣（可私訊洽談）懇請大家幫忙了，也祝大家專案進行的順利！另外因為我們目前只有兩個人，如果有人想一起玩的話，歡迎一起加入！\n",
      "有沒有知道有什麼好用的測光APP，因為我的底片機測光不穩定.......\n",
      "碳鋼Quench(淬火)會變非晶？不是這樣的吧干將莫邪一類戰國時期鑄劍技術，應該是低合金高碳鋼(主體還是碳鋼，但參雜一些稀有金屬)，外加特殊表面處理技術(表面硬化、抗氧化膜)金屬材料的教授說，要產生非晶碳鋼，冷卻速度要每秒1000k才有可能，要有這麼高的冷卻速度，只有將超小顆的液態碳鋼用類似霧狀的方式噴灑到空氣中才有可能得到。但那麼小塊很難做其他應用，要用其他方法把小顆粒壓成大塊才有用，但那樣機械性質也可能跑掉了。是故，像刀劍般大小的塊材，淬火完得到的是麻田散鐵為主的微結構，再夾雜一些石墨析出，但還是多晶。只有特定比例混合的特殊合金，才有辦法讓這個冷卻速度的門檻降低，降到約每秒100k的數量級，才有辦法用淬火直接做出夠大的非晶金屬。其中一種配方，就是所謂的liquid metal. Wiki可以查到其比例(配方有專利)， (Liquid metal比較像是商品名，公司名,非學名)apple之前收購那間握有liquid metal專利的公司(就叫liquidmetal)，轟動一時。當時有新聞媒體猜想apple會拿這種金屬做下代iphone的外殼，但其實apple只把它拿來做sim卡/sd卡的金屬卡夾。這種金屬的優點在於因為沒有晶界，抗疲勞超強，可以折很多次都不會斷\n",
      "這週根本是Tech week先是幫我爹Apple TV翻牆翻成迅雷VIP從此不用去電影院然後再幫我娘搞定昨天上市的Z Ultra雲端備忘錄和音量過小小弟我則是從iPhone3GS換到\"iPhone 4\"光是512MB的RAM就讓我痛哭流涕...\n",
      "路易莎咖啡內湖店 誠徵 1. 正職/儲備幹部2. PT/兼職人員詳細資訊如下，麻煩大家幫個忙～ 感謝～【公司名稱】路易莎咖啡內湖店【工作職缺】1. 正職/儲備幹部 2. PT/兼職人員【工作內容】1.咖啡飲料調製、點餐收銀、餐點製作、外送2.食材/器具進貨與管理【徵求條件】1.有相關經驗佳，無經驗亦可，公司會內部訓練2.希望是陽光外向好溝通好相處，喜愛咖啡，能夠團隊合作【工作地點】台北市內湖區內湖路一段433號【工作時間】營業時間: 星期一 - 星期五  8點-17點 詳細排班面試時討論 空檔皆可休息用餐【月休】月休6-8【公司福利】1.員工聚餐2.免費咖啡課程3.提供店內免費咖啡飲品4.全勤獎金【薪資範圍】1. 正職/儲備幹部 : 24000-30000 /月2. PT/兼職人員 : 120-125 /hr【需求人數】1. 正職/儲備幹部 : 2-3 人2. PT/兼職人員 : 2-3 人【聯絡人/連絡方式】聯絡人: 蘇先生 電話: 0963388863（電話沒接可以傳個簡訊留言，會再回電給您～）\n",
      "有靠北到= =\"(轉貼) 1.世界上最遙遠的距離是，我們倆一起出門，你去買蘋果四代，我去買四袋蘋果。 2.錢不是問題，問題是我沒有錢。3.一個成功的男人就是賺錢夠老婆花用，一個成功的女人就是找到這樣的男人。 ⋯⋯4.有小鳥的不一定是男生，有可能是畜生。 5.不要同傻瓜爭辯、否則別人會搞不清到底誰是傻瓜。 6.所有人都有頭，但不是所有人都有腦 7.光陽副總說過：人的能量，決定車的力量！ ..........腰的力量，決定女人的音量！ (這句第一名！)........錢的份量，決定馬子的漂亮！8.你可以污辱我的人格，但請你不要砍我的價格。 9.帥..！有什麼用？還不是被卒吃掉！ (送給很多自我感覺良好的朋友) 10.寧願相信世間有鬼，也不能相信男人的那張嘴！ 11.如果有錢是個錯，我寧願一錯再錯。 12.女為悅己者容，男為悅己者窮。 13.我從來不把錢當錢看，我都當命看!!\n",
      "那天從菊花夜行軍演唱會聽完回來不知道怎麼了  隔天的腦袋都是這首的旋律還好有收了CD  這片真的是很經典阿...看了復健科  看來兩個禮拜up是休定了Orz\n",
      "一堆pokestop設在變電箱就算了竟然還能叫他電箱三兄弟如果沒有意外最左邊應該是大哥吧....\n",
      "接下來一年腳又不能伸直了 ...\n",
      "選得到課就猛了...\n",
      "濾鏡亂搭~~藍加橘讓你輕鬆掌握好萊塢海報風格~~P.S. 在拍的時候一直想說這個感覺好熟悉，回家一查原來如此~請參考連接文章~~XD \n",
      "\"深夜問題多,平安回家最好\" 早就提醒你.沒事不要到地下室亂跑.老師在講.你都沒在聽.小史設下地網ㄉㄥ你.你還真的不怕死.自投羅網.希望下輩子投胎變老虎.不要傻傻分不清楚!!!\n",
      "3...2...1...GO!!!!不知道開著卡丁車在馬路上跑的感覺是什麼#day9 #okinawa #沖繩 #自由行 #naha #那霸 #国際通り #国際通 #国際通リ #kokusai #kokusaistreet #国際通り店 #跑跑卡丁車 #卡丁車 #馬力歐 #馬力歐賽車 #supermario #台中迪諾\n",
      "最後一年的技夜結束了從三月中因為共筆 Seminar 爆炸到快死的期中 武田徵才說明會 技夜忙到昨天多久沒有輕鬆的呼吸著非常謝謝大三舞的大家跟負責人偶很享受昨天在台上的港決 <3大概是最後一次跟你們一起在台上耍憨耍蠢耍帥 偶真的超愛你門的大概是最後一次上台表演從高一到大三六年的表演人生終於要浪子回頭 金盆洗手了...好像該是努力面對現實 打拼未來的時候了QQBTW給那些從去年覺得我消失不見的捧油們我要強勢回歸啦哈哈哈#展開人生的下一章節\n",
      "Zenfone 簡易開箱文  v.s 仁顯穿越機\n",
      "2016 回顧感覺浪費了很多時間唯一值得的是不知道練了幾隻舞更確定自己的興趣唯一在跳舞才能找到自己的自信即使被嘲笑 也無所謂 畢竟是自己喜歡的事情管他別人的眼光 -希望 2017 能更順利期望明年順利畢業與找到工作然後身體健康 老掉牙卻很實在的願望-然後大家新年快樂😘😘😘-最後附上今年練舞歌單 :BLACKPINK - PLAYING WITH FIREI.O.I - VERY *3TWICE - TTOMG - WINDY DAYWJSN - SECRETEXID - L.I.EGFRIEND - NAVILLERASEVENTEEN - ADORE UTWICE - CHEER UPI.O.I - CRUSHGFRIEND - ROUGHTWICE - Like OOH-AHH\n",
      "全國居民團體保險狀況，大家注意一下自己的權益，設籍的規定喔！我第一次發現有這個，超驚訝的！出處：現代保險健康+理財雜誌，NO.341\n",
      "暫時不要找我爬山了...山景很美麗目前想在山下看就好...\n",
      "有點想養一隻斑鳩....\n",
      "........\n",
      "都快開學了 竟然備取上台大了...\n",
      "地球物理概論又點名了!!!還好我今天有去~ ㄎㄎ然後參觀地震博物館怎麼好像就在罰站一樣~人那麼多根本看不到助教在前面幹嘛~而且裡面最好玩的東西居然早就被玩壞了........\n",
      "［培養忠誠屬下：不要讓他做白工］跟著公司和非營利組織做量化研究已經進入到一定的階段，本來只是想利用上面的人和和某週刊對企業有建立聯繫管道，請特定樣本的企業填一份問卷。不過上面的人和週刊執行長很麻吉，把我們的想法告訴週刊以後，不僅要我們提案，還要我們為了配合週刊主筆部門與行銷部門對我們的研究在分別對不同區塊有興趣，無論他們最後哪部門勝出都要我們盡力說服，修改研究方向。總而言之提了一些天馬行空的提案，你也知道的，出錢的人的日常。而且還自己想像那個周刊只有做跟產品/行銷有關的封面故事，殊不知我前天才剛看完他們歐洲難民的專題。                                                      . . .「我們的小孩目前已經成形，也花時間做了，大概就是這樣，化個妝還可以，不要想要整形，很難，我們要有很清楚的研究背景，也不要去期待可以用他們的什麼資料，不然他們自己也有研究部門，為什麼要跟我們合作。」另外一個我比較欣賞的高層說道。                                                     . . .有一個很有名的實驗，管理學上也常常提到，這邊用親子天下的專欄來講這個故事：「有一個實驗是請大學生來實驗室用樂高做機器人，第一個成品發給獎金美元兩元；第二個少十一分，給一元八角九分；第三個再減十一分，給一元七角八分，以此遞減，學生可以一直做到不想做為止。實驗分為兩組，第一組做完後，實驗者把成品收到盒子裡，放到桌下，再給他一盒新的樂高去做；第二組做完後，實驗者當著學生的面把他剛剛完成的成品拆掉，放回盒子中。第二組學生瞪大眼睛抗議：「你在幹什麼？」實驗者說：「抱歉，我們的樂高不夠，必須拆掉重複使用。」學生聽了心裡不舒服，做一做就不想做了；而第一組的人一直做到沒有報酬了還在做。這就是被肯定的力量，雖然再做已經沒任何酬勞，只要有成就感，還是願意繼續；相反的，雖然每次做都有報酬，但是一想到做完就會被拆掉、徒勞無功時，再多錢也不想做了。」 . . .好了，你已經有一個忠心耿耿的員工了。謝謝你讓我們知道：抬頭挺胸地去提案，對方雖然有名聲、是報導的平台，但是我們投注的研究能量，依據可靠的方法，仍是值得被信賴的。\n",
      "宇智波班到底是....\n",
      "哈哈  剛剛看到的告訴你們一個常人不知道關於我們身體的秘密~食物從口腔到胃部需要7秒。 人的頭髮可以拎起3kg的重物。 男性生殖器大小是拇指的3倍。 大腿骨的硬度幾乎和水泥相當。 女人眨眼比男人眨眼多1倍。 人直立不動時需要動用300塊肌肉。 女人讀完此條時，男人還在看自己的拇指......\n",
      "演出名單我還以為我眼花了連G.I. JOE都能請出來大港真的，沒有極限\n",
      ".........\n",
      "高鐵到台北我可以客運來回1.5趟😭\n"
     ]
    }
   ],
   "source": [
    "for key, messages in male_posts_dict.items():\n",
    "    for message in messages:\n",
    "        words = list(message)\n",
    "        if '.' in words:\n",
    "            print(message)\n",
    "            #print(words)\n",
    "            break"
   ]
  },
  {
   "cell_type": "markdown",
   "metadata": {},
   "source": [
    "# Topic Modeling"
   ]
  },
  {
   "cell_type": "code",
   "execution_count": 396,
   "metadata": {},
   "outputs": [],
   "source": [
    "with open('./extra_dictionary/stop_words.txt','r') as file:\n",
    "    stopwords = [line.rstrip('\\n') for line in file]"
   ]
  },
  {
   "cell_type": "code",
   "execution_count": 397,
   "metadata": {},
   "outputs": [],
   "source": [
    "def print_top_words(model, feature_names, n_top_words):\n",
    "    for topic_idx, topic in enumerate(model.components_):\n",
    "        print(\"Topic #%d:\" % topic_idx)\n",
    "        print(\" \".join([feature_names[i]\n",
    "        for i in topic.argsort()[:-n_top_words - 1:-1]]))\n",
    "    print()"
   ]
  },
  {
   "cell_type": "code",
   "execution_count": 398,
   "metadata": {},
   "outputs": [],
   "source": [
    "def stem_words(sentence):\n",
    "    stemmed_term_xd = re.sub(r'(x|X)+(D|d)+', 'xd', sentence)\n",
    "    stemmed_term_qq = re.sub(r'(q|Q)+(q|Q)+', 'qq', stemmed_term_xd)\n",
    "    stemmed_digit = re.sub(r'([0-9])([0-9])*', '', stemmed_term_qq)\n",
    "    words = list(jieba.cut(stemmed_digit, cut_all = False))\n",
    "    stemmed_sentence = ' '.join([word for word in words if word not in stopwords])\n",
    "    return stemmed_sentence"
   ]
  },
  {
   "cell_type": "code",
   "execution_count": 399,
   "metadata": {},
   "outputs": [],
   "source": [
    "matched_id = []\n",
    "corpus = []\n",
    "for key, messages in total_posts.items():\n",
    "    for message in messages:\n",
    "        matched_id.append(key)\n",
    "        stemmed_message = stem_words(message)\n",
    "        corpus.append(stemmed_message)"
   ]
  },
  {
   "cell_type": "code",
   "execution_count": 400,
   "metadata": {},
   "outputs": [
    {
     "name": "stdout",
     "output_type": "stream",
     "text": [
      "84497\n",
      "84497\n"
     ]
    }
   ],
   "source": [
    "print(len(matched_id))\n",
    "print(len(corpus))"
   ]
  },
  {
   "cell_type": "code",
   "execution_count": 401,
   "metadata": {},
   "outputs": [],
   "source": [
    "tfidf_vectorizer = TfidfVectorizer()\n",
    "tfidf = tfidf_vectorizer.fit_transform(corpus)"
   ]
  },
  {
   "cell_type": "code",
   "execution_count": 402,
   "metadata": {},
   "outputs": [],
   "source": [
    "tfidf_sorted_scores = display_scores(tfidf_vectorizer, tfidf)"
   ]
  },
  {
   "cell_type": "code",
   "execution_count": 403,
   "metadata": {},
   "outputs": [],
   "source": [
    "bag_of_words = [word[0] for word in tfidf_sorted_scores[:200]]"
   ]
  },
  {
   "cell_type": "code",
   "execution_count": 404,
   "metadata": {},
   "outputs": [
    {
     "name": "stdout",
     "output_type": "stream",
     "text": [
      "['xd', '真的', '今天', '可以', '大家', '一個', '還是', '覺得', '知道', '就是', '明天', '這樣', 'qq', '哈哈', '看到', '不要', '不是', '這麼', '一直', '時候', '一下', '好像', '感覺', '一起', '有人', '哈哈哈', '希望', '開始', '謝謝', '有點', '沒有', '現在', '還有', '喜歡', '不過', '加油', '原來', '時間', '開心', '剛剛', '到底', '一樣', '快樂', '發現', '朋友', '如果', '一定', '台灣', '不會', '回家', '分享', '好吃', '很多', '不能', '應該', '好多', '結果', '晚安', '我要', '可是', '事情', '東西', '這是', '其實', '最近', '台北', '感謝', '正在', '一天', '已經', '只是', '一次', '根本', '第一次', '世界', '想要', '睡覺', '真是', '準備', '好久', '一點', '出來', '那麼', '只有', '突然', '人生', '需要', '晚餐', '回來', '天氣', '晚上', '這種', '生活', '好好', '想到', '老師', '胡牌', '他們', '終於', '生日', '照片', '參加', '問題', '畢業', '起來', '活動', '可能', '整個', '不想', '啊啊啊', '結束', '昨天', '完全', '地方', '繼續', '遇到', '不用', '一年', '不到', '好奇', '是不是', '兩個', '只能', '今年', '竟然', '心情', '早上', '努力', '果然', '每次', '第一', '工作', '看看', 'ya', '大概', '各位', '一堆', '每天', '期待', '可怕', '一種', '影片', '宿舍', '手機', '下雨', 'orz', '這次', '早安', '早餐', '一些', '以前', '厲害', '我覺', '小心', '哈哈哈哈', '非常', '電腦', '回到', '學校', '有趣', '午餐', '不錯', '怎樣', 'go', '不見', '小時', '你們', '日本', '一切', '神魔', '大學', '重要', '還要', '只好', '下午', 'my', '學生', '出門', '成功', '每個', '有些', '禮拜', '快來', '超級', '看來', '這裡', '好笑', '決定', '記得', '幸福', '出現', '呵呵', '未來', '地震', '故事', '哪裡', '認識', 'good', 'lol', '實在']\n"
     ]
    }
   ],
   "source": [
    "print(bag_of_words)"
   ]
  },
  {
   "cell_type": "code",
   "execution_count": 405,
   "metadata": {},
   "outputs": [],
   "source": [
    "tf_vectorizer = CountVectorizer()\n",
    "tf = tf_vectorizer.fit_transform(corpus)"
   ]
  },
  {
   "cell_type": "code",
   "execution_count": 406,
   "metadata": {},
   "outputs": [],
   "source": [
    "tfidf_feature_names = tfidf_vectorizer.get_feature_names()"
   ]
  },
  {
   "cell_type": "code",
   "execution_count": 407,
   "metadata": {},
   "outputs": [],
   "source": [
    "lda = LatentDirichletAllocation(n_topics=4, max_iter=5,\n",
    "                                learning_method='online',\n",
    "                                learning_offset=50.,\n",
    "                                random_state=0)"
   ]
  },
  {
   "cell_type": "code",
   "execution_count": 408,
   "metadata": {},
   "outputs": [
    {
     "name": "stderr",
     "output_type": "stream",
     "text": [
      "/usr/local/lib/python3.5/dist-packages/sklearn/decomposition/online_lda.py:294: DeprecationWarning:\n",
      "\n",
      "n_topics has been renamed to n_components in version 0.19 and will be removed in 0.21\n",
      "\n"
     ]
    },
    {
     "data": {
      "text/plain": [
       "LatentDirichletAllocation(batch_size=128, doc_topic_prior=None,\n",
       "             evaluate_every=-1, learning_decay=0.7,\n",
       "             learning_method='online', learning_offset=50.0,\n",
       "             max_doc_update_iter=100, max_iter=5, mean_change_tol=0.001,\n",
       "             n_components=10, n_jobs=1, n_topics=4, perp_tol=0.1,\n",
       "             random_state=0, topic_word_prior=None,\n",
       "             total_samples=1000000.0, verbose=0)"
      ]
     },
     "execution_count": 408,
     "metadata": {},
     "output_type": "execute_result"
    }
   ],
   "source": [
    "lda.fit(tf)"
   ]
  },
  {
   "cell_type": "code",
   "execution_count": 409,
   "metadata": {},
   "outputs": [
    {
     "name": "stderr",
     "output_type": "stream",
     "text": [
      "/usr/local/lib/python3.5/dist-packages/sklearn/decomposition/online_lda.py:294: DeprecationWarning:\n",
      "\n",
      "n_topics has been renamed to n_components in version 0.19 and will be removed in 0.21\n",
      "\n"
     ]
    }
   ],
   "source": [
    "distribution = lda.fit_transform(tf)"
   ]
  },
  {
   "cell_type": "code",
   "execution_count": 410,
   "metadata": {},
   "outputs": [
    {
     "name": "stdout",
     "output_type": "stream",
     "text": [
      "[[ 0.25        0.25        0.25        0.25      ]\n",
      " [ 0.02778917  0.02780652  0.91659435  0.02780995]\n",
      " [ 0.03648737  0.03571534  0.8920818   0.03571549]\n",
      " ..., \n",
      " [ 0.02130263  0.02083519  0.52798044  0.42988173]\n",
      " [ 0.23870814  0.00642995  0.74845113  0.00641078]\n",
      " [ 0.60778559  0.0625093   0.26719522  0.06250988]]\n"
     ]
    }
   ],
   "source": [
    "print(distribution)"
   ]
  },
  {
   "cell_type": "code",
   "execution_count": 411,
   "metadata": {},
   "outputs": [],
   "source": [
    "tf_feature_names = tf_vectorizer.get_feature_names()"
   ]
  },
  {
   "cell_type": "code",
   "execution_count": 412,
   "metadata": {},
   "outputs": [
    {
     "name": "stdout",
     "output_type": "stream",
     "text": [
      "Topic #0:\n",
      "xd 今天 真的 大家 明天 qq 可以 謝謝 好像 還有 加油 一個 看到 還是 哈哈 一起 不過 好多 開心 開始\n",
      "Topic #1:\n",
      "ahq 圖靈機 my 哈哈哈 啊啊啊 幹幹 正在 go so be 程式 with day 呵呵 ya all we tpa lol by\n",
      "Topic #2:\n",
      "可以 真的 一個 知道 就是 還是 不是 時候 不要 覺得 一直 這樣 這麼 大家 今天 如果 沒有 只是 很多 事情\n",
      "Topic #3:\n",
      "參加 活動 好久 一起 神魔 鎖鎖鎖 __ 作業 快來 ___ 儒佳 打卡 網址 問卷 不見 飲料 gg de 分享 lab\n",
      "\n"
     ]
    }
   ],
   "source": [
    "print_top_words(lda, tf_feature_names, 20)"
   ]
  },
  {
   "cell_type": "code",
   "execution_count": 438,
   "metadata": {},
   "outputs": [],
   "source": [
    "i = 0\n",
    "user_topic_distribution = defaultdict(lambda:defaultdict(list))\n",
    "for values in distribution:\n",
    "    user_id = matched_id[i]\n",
    "    # print(user_id)\n",
    "    maximum = max(values)\n",
    "    if maximum != 0.25:\n",
    "        index = list(values).index(max(values))\n",
    "        user_topic_distribution[user_id][index].append(maximum)\n",
    "    i += 1"
   ]
  },
  {
   "cell_type": "code",
   "execution_count": 501,
   "metadata": {},
   "outputs": [],
   "source": [
    "user_topic_count = defaultdict(lambda:defaultdict(lambda:0))\n",
    "for key, items in user_topic_distribution.items():\n",
    "    if key not in user_topic_count:\n",
    "        user_topic_count[key][0] = 0\n",
    "        user_topic_count[key][1] = 0\n",
    "        user_topic_count[key][2] = 0\n",
    "        user_topic_count[key][3] = 0\n",
    "    for topic, values in items.items():\n",
    "        user_topic_count[key][topic] = len(values)"
   ]
  },
  {
   "cell_type": "code",
   "execution_count": 512,
   "metadata": {},
   "outputs": [],
   "source": [
    "user_topic_table = [['id', 'topic0_count', 'topic1_count', 'topic2_count', 'topic3_count']]\n",
    "for key, items in user_topic_count.items():\n",
    "    scores = [key]\n",
    "    for i in range(4):\n",
    "        scores.append(user_topic_count[key][i])\n",
    "    user_topic_table.append(scores)"
   ]
  },
  {
   "cell_type": "code",
   "execution_count": 513,
   "metadata": {},
   "outputs": [
    {
     "data": {
      "text/html": [
       "<div>\n",
       "<style>\n",
       "    .dataframe thead tr:only-child th {\n",
       "        text-align: right;\n",
       "    }\n",
       "\n",
       "    .dataframe thead th {\n",
       "        text-align: left;\n",
       "    }\n",
       "\n",
       "    .dataframe tbody tr th {\n",
       "        vertical-align: top;\n",
       "    }\n",
       "</style>\n",
       "<table border=\"1\" class=\"dataframe\">\n",
       "  <thead>\n",
       "    <tr style=\"text-align: right;\">\n",
       "      <th></th>\n",
       "      <th>id</th>\n",
       "      <th>topic0_count</th>\n",
       "      <th>topic1_count</th>\n",
       "      <th>topic2_count</th>\n",
       "      <th>topic3_count</th>\n",
       "    </tr>\n",
       "  </thead>\n",
       "  <tbody>\n",
       "    <tr>\n",
       "      <th>0</th>\n",
       "      <td>1822107337815837</td>\n",
       "      <td>6</td>\n",
       "      <td>1</td>\n",
       "      <td>10</td>\n",
       "      <td>4</td>\n",
       "    </tr>\n",
       "    <tr>\n",
       "      <th>1</th>\n",
       "      <td>1808122152538948</td>\n",
       "      <td>414</td>\n",
       "      <td>99</td>\n",
       "      <td>123</td>\n",
       "      <td>50</td>\n",
       "    </tr>\n",
       "    <tr>\n",
       "      <th>2</th>\n",
       "      <td>1525066240878271</td>\n",
       "      <td>63</td>\n",
       "      <td>30</td>\n",
       "      <td>45</td>\n",
       "      <td>17</td>\n",
       "    </tr>\n",
       "    <tr>\n",
       "      <th>3</th>\n",
       "      <td>10210988536529598</td>\n",
       "      <td>25</td>\n",
       "      <td>43</td>\n",
       "      <td>41</td>\n",
       "      <td>28</td>\n",
       "    </tr>\n",
       "    <tr>\n",
       "      <th>4</th>\n",
       "      <td>1386097208093454</td>\n",
       "      <td>311</td>\n",
       "      <td>90</td>\n",
       "      <td>413</td>\n",
       "      <td>86</td>\n",
       "    </tr>\n",
       "    <tr>\n",
       "      <th>5</th>\n",
       "      <td>1896221243728018</td>\n",
       "      <td>43</td>\n",
       "      <td>46</td>\n",
       "      <td>58</td>\n",
       "      <td>49</td>\n",
       "    </tr>\n",
       "    <tr>\n",
       "      <th>6</th>\n",
       "      <td>1634011049952111</td>\n",
       "      <td>33</td>\n",
       "      <td>27</td>\n",
       "      <td>47</td>\n",
       "      <td>15</td>\n",
       "    </tr>\n",
       "    <tr>\n",
       "      <th>7</th>\n",
       "      <td>1513944438661823</td>\n",
       "      <td>53</td>\n",
       "      <td>29</td>\n",
       "      <td>59</td>\n",
       "      <td>17</td>\n",
       "    </tr>\n",
       "    <tr>\n",
       "      <th>8</th>\n",
       "      <td>1840120512668185</td>\n",
       "      <td>151</td>\n",
       "      <td>64</td>\n",
       "      <td>419</td>\n",
       "      <td>30</td>\n",
       "    </tr>\n",
       "    <tr>\n",
       "      <th>9</th>\n",
       "      <td>1721752347837052</td>\n",
       "      <td>35</td>\n",
       "      <td>7</td>\n",
       "      <td>39</td>\n",
       "      <td>14</td>\n",
       "    </tr>\n",
       "    <tr>\n",
       "      <th>10</th>\n",
       "      <td>1736602939687427</td>\n",
       "      <td>49</td>\n",
       "      <td>28</td>\n",
       "      <td>45</td>\n",
       "      <td>40</td>\n",
       "    </tr>\n",
       "    <tr>\n",
       "      <th>11</th>\n",
       "      <td>10208698865103060</td>\n",
       "      <td>52</td>\n",
       "      <td>30</td>\n",
       "      <td>131</td>\n",
       "      <td>37</td>\n",
       "    </tr>\n",
       "    <tr>\n",
       "      <th>12</th>\n",
       "      <td>1755898664424794</td>\n",
       "      <td>147</td>\n",
       "      <td>93</td>\n",
       "      <td>165</td>\n",
       "      <td>47</td>\n",
       "    </tr>\n",
       "    <tr>\n",
       "      <th>13</th>\n",
       "      <td>1624663430897732</td>\n",
       "      <td>224</td>\n",
       "      <td>177</td>\n",
       "      <td>260</td>\n",
       "      <td>100</td>\n",
       "    </tr>\n",
       "    <tr>\n",
       "      <th>14</th>\n",
       "      <td>1517846504925449</td>\n",
       "      <td>285</td>\n",
       "      <td>110</td>\n",
       "      <td>729</td>\n",
       "      <td>73</td>\n",
       "    </tr>\n",
       "    <tr>\n",
       "      <th>15</th>\n",
       "      <td>1510694482285844</td>\n",
       "      <td>79</td>\n",
       "      <td>24</td>\n",
       "      <td>88</td>\n",
       "      <td>23</td>\n",
       "    </tr>\n",
       "    <tr>\n",
       "      <th>16</th>\n",
       "      <td>1442789662480454</td>\n",
       "      <td>70</td>\n",
       "      <td>20</td>\n",
       "      <td>115</td>\n",
       "      <td>21</td>\n",
       "    </tr>\n",
       "    <tr>\n",
       "      <th>17</th>\n",
       "      <td>1780384911978670</td>\n",
       "      <td>498</td>\n",
       "      <td>234</td>\n",
       "      <td>809</td>\n",
       "      <td>119</td>\n",
       "    </tr>\n",
       "    <tr>\n",
       "      <th>18</th>\n",
       "      <td>1425644360862465</td>\n",
       "      <td>34</td>\n",
       "      <td>7</td>\n",
       "      <td>40</td>\n",
       "      <td>10</td>\n",
       "    </tr>\n",
       "    <tr>\n",
       "      <th>19</th>\n",
       "      <td>1372981062791429</td>\n",
       "      <td>4</td>\n",
       "      <td>5</td>\n",
       "      <td>3</td>\n",
       "      <td>1</td>\n",
       "    </tr>\n",
       "    <tr>\n",
       "      <th>20</th>\n",
       "      <td>1929201887095729</td>\n",
       "      <td>275</td>\n",
       "      <td>114</td>\n",
       "      <td>277</td>\n",
       "      <td>82</td>\n",
       "    </tr>\n",
       "    <tr>\n",
       "      <th>21</th>\n",
       "      <td>1772954002721149</td>\n",
       "      <td>1209</td>\n",
       "      <td>365</td>\n",
       "      <td>1594</td>\n",
       "      <td>272</td>\n",
       "    </tr>\n",
       "    <tr>\n",
       "      <th>22</th>\n",
       "      <td>10213721570903289</td>\n",
       "      <td>57</td>\n",
       "      <td>117</td>\n",
       "      <td>48</td>\n",
       "      <td>38</td>\n",
       "    </tr>\n",
       "    <tr>\n",
       "      <th>23</th>\n",
       "      <td>1755437391140657</td>\n",
       "      <td>151</td>\n",
       "      <td>75</td>\n",
       "      <td>121</td>\n",
       "      <td>73</td>\n",
       "    </tr>\n",
       "    <tr>\n",
       "      <th>24</th>\n",
       "      <td>1462695893826968</td>\n",
       "      <td>7</td>\n",
       "      <td>1</td>\n",
       "      <td>5</td>\n",
       "      <td>2</td>\n",
       "    </tr>\n",
       "    <tr>\n",
       "      <th>25</th>\n",
       "      <td>1384036221681615</td>\n",
       "      <td>219</td>\n",
       "      <td>40</td>\n",
       "      <td>148</td>\n",
       "      <td>48</td>\n",
       "    </tr>\n",
       "    <tr>\n",
       "      <th>26</th>\n",
       "      <td>1563244917028120</td>\n",
       "      <td>144</td>\n",
       "      <td>64</td>\n",
       "      <td>257</td>\n",
       "      <td>29</td>\n",
       "    </tr>\n",
       "    <tr>\n",
       "      <th>27</th>\n",
       "      <td>1625035490848760</td>\n",
       "      <td>296</td>\n",
       "      <td>69</td>\n",
       "      <td>530</td>\n",
       "      <td>66</td>\n",
       "    </tr>\n",
       "    <tr>\n",
       "      <th>28</th>\n",
       "      <td>1637654792912553</td>\n",
       "      <td>186</td>\n",
       "      <td>140</td>\n",
       "      <td>183</td>\n",
       "      <td>74</td>\n",
       "    </tr>\n",
       "    <tr>\n",
       "      <th>29</th>\n",
       "      <td>1748447515171073</td>\n",
       "      <td>1687</td>\n",
       "      <td>584</td>\n",
       "      <td>2039</td>\n",
       "      <td>404</td>\n",
       "    </tr>\n",
       "    <tr>\n",
       "      <th>...</th>\n",
       "      <td>...</td>\n",
       "      <td>...</td>\n",
       "      <td>...</td>\n",
       "      <td>...</td>\n",
       "      <td>...</td>\n",
       "    </tr>\n",
       "    <tr>\n",
       "      <th>103</th>\n",
       "      <td>1803136159999174</td>\n",
       "      <td>93</td>\n",
       "      <td>252</td>\n",
       "      <td>169</td>\n",
       "      <td>82</td>\n",
       "    </tr>\n",
       "    <tr>\n",
       "      <th>104</th>\n",
       "      <td>1530185160345344</td>\n",
       "      <td>65</td>\n",
       "      <td>15</td>\n",
       "      <td>56</td>\n",
       "      <td>24</td>\n",
       "    </tr>\n",
       "    <tr>\n",
       "      <th>105</th>\n",
       "      <td>1599238036786208</td>\n",
       "      <td>88</td>\n",
       "      <td>37</td>\n",
       "      <td>73</td>\n",
       "      <td>41</td>\n",
       "    </tr>\n",
       "    <tr>\n",
       "      <th>106</th>\n",
       "      <td>1803804869633868</td>\n",
       "      <td>543</td>\n",
       "      <td>125</td>\n",
       "      <td>1135</td>\n",
       "      <td>84</td>\n",
       "    </tr>\n",
       "    <tr>\n",
       "      <th>107</th>\n",
       "      <td>1746678138681672</td>\n",
       "      <td>149</td>\n",
       "      <td>72</td>\n",
       "      <td>242</td>\n",
       "      <td>88</td>\n",
       "    </tr>\n",
       "    <tr>\n",
       "      <th>108</th>\n",
       "      <td>10213276568926800</td>\n",
       "      <td>68</td>\n",
       "      <td>13</td>\n",
       "      <td>37</td>\n",
       "      <td>17</td>\n",
       "    </tr>\n",
       "    <tr>\n",
       "      <th>109</th>\n",
       "      <td>1341342575915634</td>\n",
       "      <td>274</td>\n",
       "      <td>164</td>\n",
       "      <td>332</td>\n",
       "      <td>156</td>\n",
       "    </tr>\n",
       "    <tr>\n",
       "      <th>110</th>\n",
       "      <td>1495887873803756</td>\n",
       "      <td>3</td>\n",
       "      <td>2</td>\n",
       "      <td>3</td>\n",
       "      <td>2</td>\n",
       "    </tr>\n",
       "    <tr>\n",
       "      <th>111</th>\n",
       "      <td>1485478021473396</td>\n",
       "      <td>63</td>\n",
       "      <td>7</td>\n",
       "      <td>249</td>\n",
       "      <td>15</td>\n",
       "    </tr>\n",
       "    <tr>\n",
       "      <th>112</th>\n",
       "      <td>1459704867444437</td>\n",
       "      <td>160</td>\n",
       "      <td>32</td>\n",
       "      <td>252</td>\n",
       "      <td>44</td>\n",
       "    </tr>\n",
       "    <tr>\n",
       "      <th>113</th>\n",
       "      <td>1441585192605037</td>\n",
       "      <td>36</td>\n",
       "      <td>33</td>\n",
       "      <td>70</td>\n",
       "      <td>9</td>\n",
       "    </tr>\n",
       "    <tr>\n",
       "      <th>114</th>\n",
       "      <td>10214994163795546</td>\n",
       "      <td>6</td>\n",
       "      <td>1</td>\n",
       "      <td>3</td>\n",
       "      <td>2</td>\n",
       "    </tr>\n",
       "    <tr>\n",
       "      <th>115</th>\n",
       "      <td>1594133623932600</td>\n",
       "      <td>123</td>\n",
       "      <td>71</td>\n",
       "      <td>310</td>\n",
       "      <td>54</td>\n",
       "    </tr>\n",
       "    <tr>\n",
       "      <th>116</th>\n",
       "      <td>1380347355348220</td>\n",
       "      <td>19</td>\n",
       "      <td>3</td>\n",
       "      <td>9</td>\n",
       "      <td>11</td>\n",
       "    </tr>\n",
       "    <tr>\n",
       "      <th>117</th>\n",
       "      <td>1415853895166805</td>\n",
       "      <td>12</td>\n",
       "      <td>5</td>\n",
       "      <td>7</td>\n",
       "      <td>6</td>\n",
       "    </tr>\n",
       "    <tr>\n",
       "      <th>118</th>\n",
       "      <td>10212229002914065</td>\n",
       "      <td>435</td>\n",
       "      <td>77</td>\n",
       "      <td>407</td>\n",
       "      <td>96</td>\n",
       "    </tr>\n",
       "    <tr>\n",
       "      <th>119</th>\n",
       "      <td>1682785845070091</td>\n",
       "      <td>23</td>\n",
       "      <td>10</td>\n",
       "      <td>21</td>\n",
       "      <td>6</td>\n",
       "    </tr>\n",
       "    <tr>\n",
       "      <th>120</th>\n",
       "      <td>10209884878146900</td>\n",
       "      <td>91</td>\n",
       "      <td>40</td>\n",
       "      <td>96</td>\n",
       "      <td>37</td>\n",
       "    </tr>\n",
       "    <tr>\n",
       "      <th>121</th>\n",
       "      <td>1785137904835208</td>\n",
       "      <td>135</td>\n",
       "      <td>13</td>\n",
       "      <td>96</td>\n",
       "      <td>27</td>\n",
       "    </tr>\n",
       "    <tr>\n",
       "      <th>122</th>\n",
       "      <td>1397691943653217</td>\n",
       "      <td>146</td>\n",
       "      <td>38</td>\n",
       "      <td>162</td>\n",
       "      <td>59</td>\n",
       "    </tr>\n",
       "    <tr>\n",
       "      <th>123</th>\n",
       "      <td>1965432113473918</td>\n",
       "      <td>25</td>\n",
       "      <td>8</td>\n",
       "      <td>45</td>\n",
       "      <td>7</td>\n",
       "    </tr>\n",
       "    <tr>\n",
       "      <th>124</th>\n",
       "      <td>2199623280054803</td>\n",
       "      <td>96</td>\n",
       "      <td>91</td>\n",
       "      <td>194</td>\n",
       "      <td>38</td>\n",
       "    </tr>\n",
       "    <tr>\n",
       "      <th>125</th>\n",
       "      <td>1677360819003472</td>\n",
       "      <td>138</td>\n",
       "      <td>24</td>\n",
       "      <td>122</td>\n",
       "      <td>57</td>\n",
       "    </tr>\n",
       "    <tr>\n",
       "      <th>126</th>\n",
       "      <td>1759735150710515</td>\n",
       "      <td>40</td>\n",
       "      <td>14</td>\n",
       "      <td>38</td>\n",
       "      <td>36</td>\n",
       "    </tr>\n",
       "    <tr>\n",
       "      <th>127</th>\n",
       "      <td>1602301023124795</td>\n",
       "      <td>17</td>\n",
       "      <td>7</td>\n",
       "      <td>73</td>\n",
       "      <td>6</td>\n",
       "    </tr>\n",
       "    <tr>\n",
       "      <th>128</th>\n",
       "      <td>1370705566316359</td>\n",
       "      <td>30</td>\n",
       "      <td>19</td>\n",
       "      <td>30</td>\n",
       "      <td>20</td>\n",
       "    </tr>\n",
       "    <tr>\n",
       "      <th>129</th>\n",
       "      <td>1500120836718630</td>\n",
       "      <td>11</td>\n",
       "      <td>3</td>\n",
       "      <td>11</td>\n",
       "      <td>2</td>\n",
       "    </tr>\n",
       "    <tr>\n",
       "      <th>130</th>\n",
       "      <td>10209391996974018</td>\n",
       "      <td>364</td>\n",
       "      <td>102</td>\n",
       "      <td>290</td>\n",
       "      <td>117</td>\n",
       "    </tr>\n",
       "    <tr>\n",
       "      <th>131</th>\n",
       "      <td>1059418587522487</td>\n",
       "      <td>30</td>\n",
       "      <td>9</td>\n",
       "      <td>55</td>\n",
       "      <td>21</td>\n",
       "    </tr>\n",
       "    <tr>\n",
       "      <th>132</th>\n",
       "      <td>1550754018293032</td>\n",
       "      <td>578</td>\n",
       "      <td>290</td>\n",
       "      <td>553</td>\n",
       "      <td>309</td>\n",
       "    </tr>\n",
       "  </tbody>\n",
       "</table>\n",
       "<p>133 rows × 5 columns</p>\n",
       "</div>"
      ],
      "text/plain": [
       "                    id  topic0_count  topic1_count  topic2_count  topic3_count\n",
       "0     1822107337815837             6             1            10             4\n",
       "1     1808122152538948           414            99           123            50\n",
       "2     1525066240878271            63            30            45            17\n",
       "3    10210988536529598            25            43            41            28\n",
       "4     1386097208093454           311            90           413            86\n",
       "5     1896221243728018            43            46            58            49\n",
       "6     1634011049952111            33            27            47            15\n",
       "7     1513944438661823            53            29            59            17\n",
       "8     1840120512668185           151            64           419            30\n",
       "9     1721752347837052            35             7            39            14\n",
       "10    1736602939687427            49            28            45            40\n",
       "11   10208698865103060            52            30           131            37\n",
       "12    1755898664424794           147            93           165            47\n",
       "13    1624663430897732           224           177           260           100\n",
       "14    1517846504925449           285           110           729            73\n",
       "15    1510694482285844            79            24            88            23\n",
       "16    1442789662480454            70            20           115            21\n",
       "17    1780384911978670           498           234           809           119\n",
       "18    1425644360862465            34             7            40            10\n",
       "19    1372981062791429             4             5             3             1\n",
       "20    1929201887095729           275           114           277            82\n",
       "21    1772954002721149          1209           365          1594           272\n",
       "22   10213721570903289            57           117            48            38\n",
       "23    1755437391140657           151            75           121            73\n",
       "24    1462695893826968             7             1             5             2\n",
       "25    1384036221681615           219            40           148            48\n",
       "26    1563244917028120           144            64           257            29\n",
       "27    1625035490848760           296            69           530            66\n",
       "28    1637654792912553           186           140           183            74\n",
       "29    1748447515171073          1687           584          2039           404\n",
       "..                 ...           ...           ...           ...           ...\n",
       "103   1803136159999174            93           252           169            82\n",
       "104   1530185160345344            65            15            56            24\n",
       "105   1599238036786208            88            37            73            41\n",
       "106   1803804869633868           543           125          1135            84\n",
       "107   1746678138681672           149            72           242            88\n",
       "108  10213276568926800            68            13            37            17\n",
       "109   1341342575915634           274           164           332           156\n",
       "110   1495887873803756             3             2             3             2\n",
       "111   1485478021473396            63             7           249            15\n",
       "112   1459704867444437           160            32           252            44\n",
       "113   1441585192605037            36            33            70             9\n",
       "114  10214994163795546             6             1             3             2\n",
       "115   1594133623932600           123            71           310            54\n",
       "116   1380347355348220            19             3             9            11\n",
       "117   1415853895166805            12             5             7             6\n",
       "118  10212229002914065           435            77           407            96\n",
       "119   1682785845070091            23            10            21             6\n",
       "120  10209884878146900            91            40            96            37\n",
       "121   1785137904835208           135            13            96            27\n",
       "122   1397691943653217           146            38           162            59\n",
       "123   1965432113473918            25             8            45             7\n",
       "124   2199623280054803            96            91           194            38\n",
       "125   1677360819003472           138            24           122            57\n",
       "126   1759735150710515            40            14            38            36\n",
       "127   1602301023124795            17             7            73             6\n",
       "128   1370705566316359            30            19            30            20\n",
       "129   1500120836718630            11             3            11             2\n",
       "130  10209391996974018           364           102           290           117\n",
       "131   1059418587522487            30             9            55            21\n",
       "132   1550754018293032           578           290           553           309\n",
       "\n",
       "[133 rows x 5 columns]"
      ]
     },
     "execution_count": 513,
     "metadata": {},
     "output_type": "execute_result"
    }
   ],
   "source": [
    "headers = user_topic_table.pop(0)\n",
    "df = pd.DataFrame(user_topic_table, columns=headers)\n",
    "df"
   ]
  },
  {
   "cell_type": "code",
   "execution_count": null,
   "metadata": {},
   "outputs": [],
   "source": []
  }
 ],
 "metadata": {
  "kernelspec": {
   "display_name": "Python 3",
   "language": "python",
   "name": "python3"
  },
  "language_info": {
   "codemirror_mode": {
    "name": "ipython",
    "version": 3
   },
   "file_extension": ".py",
   "mimetype": "text/x-python",
   "name": "python",
   "nbconvert_exporter": "python",
   "pygments_lexer": "ipython3",
   "version": "3.5.2"
  }
 },
 "nbformat": 4,
 "nbformat_minor": 2
}
