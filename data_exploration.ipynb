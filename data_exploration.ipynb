{
 "cells": [
  {
   "cell_type": "code",
   "execution_count": 446,
   "metadata": {},
   "outputs": [],
   "source": [
    "import re\n",
    "import jieba\n",
    "import jieba.analyse\n",
    "import json\n",
    "import random\n",
    "import operator\n",
    "import numpy as np\n",
    "import pandas as pd\n",
    "from collections import defaultdict\n",
    "from sklearn.feature_extraction.text import TfidfVectorizer, CountVectorizer, TfidfTransformer\n",
    "from sklearn.decomposition import NMF, LatentDirichletAllocation"
   ]
  },
  {
   "cell_type": "code",
   "execution_count": 2,
   "metadata": {},
   "outputs": [],
   "source": [
    "from elasticsearch import Elasticsearch\n",
    "import elasticsearch.helpers\n",
    "from datetime import datetime"
   ]
  },
  {
   "cell_type": "code",
   "execution_count": 3,
   "metadata": {},
   "outputs": [],
   "source": [
    "es = Elasticsearch([{'host': 'localhost', 'port': 9200}])"
   ]
  },
  {
   "cell_type": "code",
   "execution_count": 4,
   "metadata": {},
   "outputs": [
    {
     "name": "stdout",
     "output_type": "stream",
     "text": [
      "58 documents found\n"
     ]
    }
   ],
   "source": [
    "# Find top10\n",
    "res = es.search(index='facebook', doc_type='user', body= {'query': {'match': {'gender': 'female'}}})\n",
    "print(\"%d documents found\" % res['hits']['total'])"
   ]
  },
  {
   "cell_type": "code",
   "execution_count": 5,
   "metadata": {},
   "outputs": [
    {
     "name": "stdout",
     "output_type": "stream",
     "text": [
      "143\n"
     ]
    }
   ],
   "source": [
    "# Take all result\n",
    "users = list(elasticsearch.helpers.scan(es, index='facebook', doc_type='user'))\n",
    "total_users = [user['_id'] for user in users]\n",
    "total_user_with_gender = [(user['_id'], user['_source'].get('gender')) for user in users]\n",
    "print(len(total_user_with_gender))"
   ]
  },
  {
   "cell_type": "code",
   "execution_count": 6,
   "metadata": {},
   "outputs": [],
   "source": [
    "no_message = ['1618047998214350', '1624029027647185', '1454298984658260', '1805190672831590']\n",
    "foreigners = ['1695358370488750', '10213401737335928', '1532260126834371', '10154597524691479', '10155404471078548', '10158882655745234']"
   ]
  },
  {
   "cell_type": "code",
   "execution_count": 7,
   "metadata": {},
   "outputs": [
    {
     "name": "stdout",
     "output_type": "stream",
     "text": [
      "133\n"
     ]
    }
   ],
   "source": [
    "total_users = [user for user in total_users if user not in (no_message + foreigners)]\n",
    "print(len(total_users))"
   ]
  },
  {
   "cell_type": "code",
   "execution_count": 8,
   "metadata": {},
   "outputs": [],
   "source": [
    "user_dict = {'male': [], 'female': []}\n",
    "for user in total_user_with_gender:\n",
    "    if user[0] not in (no_message + foreigners):\n",
    "        if user[1] == 'male':\n",
    "            user_dict['male'].append(user[0])\n",
    "        else:\n",
    "            user_dict['female'].append(user[0])"
   ]
  },
  {
   "cell_type": "code",
   "execution_count": 9,
   "metadata": {},
   "outputs": [
    {
     "name": "stdout",
     "output_type": "stream",
     "text": [
      "male: 79\n",
      "female: 54\n"
     ]
    }
   ],
   "source": [
    "print('male: ' + str(len(user_dict['male'])) + '\\nfemale: ' + str(len(user_dict['female'])))"
   ]
  },
  {
   "cell_type": "code",
   "execution_count": 10,
   "metadata": {},
   "outputs": [],
   "source": [
    "# Filtering urls\n",
    "def filtering_url(messages):\n",
    "    filtered_messages = [re.sub('http[s]?://(?:[a-zA-Z]|[0-9]|[$-_@.&+]|[!*\\(\\),]|(?:%[0-9a-fA-F][0-9a-fA-F]))+', '', message.replace('\\n', '').replace('\\r', '')) for message in messages]\n",
    "    return filtered_messages"
   ]
  },
  {
   "cell_type": "code",
   "execution_count": 11,
   "metadata": {},
   "outputs": [],
   "source": [
    "# Mapping user posts\n",
    "def get_posts(users):\n",
    "    posts_dic = {}\n",
    "    for user in users:\n",
    "        # print(user)\n",
    "        posts = list(elasticsearch.helpers.scan(es, query={'query': {'match': {'user_id': user}}}, index='facebook', doc_type='post'))\n",
    "        messages = [post['_source'].get('message') for post in posts if post['_source'].get('message') != '']\n",
    "        #print(message)\n",
    "        filtered_messages = filtering_url(messages)\n",
    "        posts_dic[user] = filtered_messages\n",
    "    return posts_dic"
   ]
  },
  {
   "cell_type": "code",
   "execution_count": 12,
   "metadata": {},
   "outputs": [],
   "source": [
    "total_posts = get_posts(total_users)\n",
    "male_posts_dict = get_posts(user_dict['male'])\n",
    "female_posts_dict = get_posts(user_dict['female'])"
   ]
  },
  {
   "cell_type": "markdown",
   "metadata": {},
   "source": [
    "# Using jieba as Chinese tokenizer, and calculating TFIDF"
   ]
  },
  {
   "cell_type": "code",
   "execution_count": 13,
   "metadata": {},
   "outputs": [],
   "source": [
    "# Using jieba to tokenize user posts\n",
    "def tokenize_posts(user_posts):\n",
    "    seg_posts = {}\n",
    "    for key, messages in user_posts.items():\n",
    "        seg_posts[key] = [' '.join(jieba.cut(message, cut_all = False)) for message in messages]\n",
    "    return seg_posts"
   ]
  },
  {
   "cell_type": "code",
   "execution_count": 14,
   "metadata": {},
   "outputs": [
    {
     "name": "stderr",
     "output_type": "stream",
     "text": [
      "Building prefix dict from the default dictionary ...\n",
      "Loading model from cache /tmp/jieba.cache\n",
      "Loading model cost 0.695 seconds.\n",
      "Prefix dict has been built succesfully.\n"
     ]
    }
   ],
   "source": [
    "male_seg_posts = tokenize_posts(male_posts_dict)\n",
    "female_seg_posts = tokenize_posts(female_posts_dict)"
   ]
  },
  {
   "cell_type": "code",
   "execution_count": 15,
   "metadata": {},
   "outputs": [],
   "source": [
    "# Display tfidf score\n",
    "def display_scores(vectorizer, tfidf_result):\n",
    "    # http://stackoverflow.com/questions/16078015/\n",
    "    scores = zip(vectorizer.get_feature_names(),\n",
    "                 np.asarray(tfidf_result.sum(axis=0)).ravel())\n",
    "    sorted_scores = sorted(scores, key=lambda x: x[1], reverse=True)\n",
    "    index_scores = []\n",
    "    for index, item in enumerate(sorted_scores):\n",
    "        index_scores.append((index, item[1]))\n",
    "    return sorted_scores"
   ]
  },
  {
   "cell_type": "code",
   "execution_count": 16,
   "metadata": {},
   "outputs": [],
   "source": [
    "def calculate_tfidf(seg_posts):\n",
    "    corpus = [segment for key, segments in seg_posts.items() for segment in segments]\n",
    "    tfidf_vectorizer = TfidfVectorizer()\n",
    "    tfidf = tfidf_vectorizer.fit_transform(corpus)\n",
    "    tfidf_features = tfidf_vectorizer.get_feature_names()\n",
    "    \n",
    "    sorted_scores = display_scores(tfidf_vectorizer, tfidf)\n",
    "    return sorted_scores"
   ]
  },
  {
   "cell_type": "code",
   "execution_count": 17,
   "metadata": {},
   "outputs": [],
   "source": [
    "male_tfidf_scores = calculate_tfidf(male_seg_posts)\n",
    "female_tfidf_scores = calculate_tfidf(female_seg_posts)"
   ]
  },
  {
   "cell_type": "code",
   "execution_count": 18,
   "metadata": {},
   "outputs": [],
   "source": [
    "male_bag_of_words = [word[0] for word in male_tfidf_scores[:100]]\n",
    "female_bag_of_words = [word[0] for word in female_tfidf_scores[:100]]"
   ]
  },
  {
   "cell_type": "markdown",
   "metadata": {},
   "source": [
    "# Graph-based word categorization"
   ]
  },
  {
   "cell_type": "code",
   "execution_count": 19,
   "metadata": {},
   "outputs": [
    {
     "name": "stdout",
     "output_type": "stream",
     "text": [
      "CPU times: user 544 ms, sys: 0 ns, total: 544 ms\n",
      "Wall time: 555 ms\n"
     ]
    }
   ],
   "source": [
    "%%time\n",
    "word_index = {}\n",
    "index = 1\n",
    "\n",
    "#Building word index dictionary\n",
    "for key, messages in total_posts.items():\n",
    "    for message in messages:\n",
    "        for word in list(message):\n",
    "            if word not in word_index:\n",
    "                word_index[word] = index\n",
    "                index += 1"
   ]
  },
  {
   "cell_type": "code",
   "execution_count": 20,
   "metadata": {},
   "outputs": [],
   "source": [
    "def building_weighted_graph(word_graph):\n",
    "    weighted_word_graph = {}\n",
    "    # Finding the maximun value of word frequency\n",
    "    max_freq = max(word_graph.items(), key=operator.itemgetter(1))[1]\n",
    "\n",
    "    for key, value in word_graph.items():\n",
    "        weight = value / max_freq\n",
    "        weighted_word_graph[key] = weight \n",
    "    return weighted_word_graph"
   ]
  },
  {
   "cell_type": "code",
   "execution_count": 21,
   "metadata": {},
   "outputs": [],
   "source": [
    "def building_word_graph(user_posts):\n",
    "    word_graph = {}\n",
    "    for key, messages in user_posts.items():\n",
    "        for message in messages:\n",
    "            words = list(message)\n",
    "            \n",
    "            for i in range(len(words)-1):\n",
    "                if (words[i], words[i+1]) not in word_graph:\n",
    "                    word_graph[(words[i], words[i+1])] = 1\n",
    "                else:\n",
    "                    word_graph[(words[i], words[i+1])] += 1\n",
    "    weighted_word_graph = building_weighted_graph(word_graph)\n",
    "    return weighted_word_graph"
   ]
  },
  {
   "cell_type": "code",
   "execution_count": 22,
   "metadata": {},
   "outputs": [],
   "source": [
    "male_weighted_graph = building_word_graph(male_posts_dict)\n",
    "female_weighted_graph = building_word_graph(female_posts_dict)"
   ]
  },
  {
   "cell_type": "code",
   "execution_count": 23,
   "metadata": {},
   "outputs": [],
   "source": [
    "import networkx as nx\n",
    "import plotly.plotly as py\n",
    "from plotly.graph_objs import *"
   ]
  },
  {
   "cell_type": "code",
   "execution_count": 24,
   "metadata": {},
   "outputs": [],
   "source": [
    "G = nx.random_geometric_graph(200, 1)\n",
    "# position is stored as node attribute data for random_geometric_graph\n",
    "pos = nx.get_node_attributes(G, 'pos')"
   ]
  },
  {
   "cell_type": "code",
   "execution_count": 25,
   "metadata": {},
   "outputs": [],
   "source": [
    "edge_trace = Scatter(\n",
    "    x=[], \n",
    "    y=[], \n",
    "    line=Line(width=0.5,color='#888'),\n",
    "    hoverinfo='none',\n",
    "    mode='lines')"
   ]
  },
  {
   "cell_type": "markdown",
   "metadata": {},
   "source": [
    "# Topic Modeling"
   ]
  },
  {
   "cell_type": "code",
   "execution_count": 396,
   "metadata": {},
   "outputs": [],
   "source": [
    "with open('./extra_dictionary/stop_words.txt','r') as file:\n",
    "    stopwords = [line.rstrip('\\n') for line in file]"
   ]
  },
  {
   "cell_type": "code",
   "execution_count": 397,
   "metadata": {},
   "outputs": [],
   "source": [
    "def print_top_words(model, feature_names, n_top_words):\n",
    "    for topic_idx, topic in enumerate(model.components_):\n",
    "        print(\"Topic #%d:\" % topic_idx)\n",
    "        print(\" \".join([feature_names[i]\n",
    "        for i in topic.argsort()[:-n_top_words - 1:-1]]))\n",
    "    print()"
   ]
  },
  {
   "cell_type": "code",
   "execution_count": 398,
   "metadata": {},
   "outputs": [],
   "source": [
    "def stem_words(sentence):\n",
    "    stemmed_term_xd = re.sub(r'(x|X)+(D|d)+', 'xd', sentence)\n",
    "    stemmed_term_qq = re.sub(r'(q|Q)+(q|Q)+', 'qq', stemmed_term_xd)\n",
    "    stemmed_digit = re.sub(r'([0-9])([0-9])*', '', stemmed_term_qq)\n",
    "    words = list(jieba.cut(stemmed_digit, cut_all = False))\n",
    "    stemmed_sentence = ' '.join([word for word in words if word not in stopwords])\n",
    "    return stemmed_sentence"
   ]
  },
  {
   "cell_type": "code",
   "execution_count": 399,
   "metadata": {},
   "outputs": [],
   "source": [
    "matched_id = []\n",
    "corpus = []\n",
    "for key, messages in total_posts.items():\n",
    "    for message in messages:\n",
    "        matched_id.append(key)\n",
    "        stemmed_message = stem_words(message)\n",
    "        corpus.append(stemmed_message)"
   ]
  },
  {
   "cell_type": "code",
   "execution_count": 400,
   "metadata": {},
   "outputs": [
    {
     "name": "stdout",
     "output_type": "stream",
     "text": [
      "84497\n",
      "84497\n"
     ]
    }
   ],
   "source": [
    "print(len(matched_id))\n",
    "print(len(corpus))"
   ]
  },
  {
   "cell_type": "code",
   "execution_count": 401,
   "metadata": {},
   "outputs": [],
   "source": [
    "tfidf_vectorizer = TfidfVectorizer()\n",
    "tfidf = tfidf_vectorizer.fit_transform(corpus)"
   ]
  },
  {
   "cell_type": "code",
   "execution_count": 402,
   "metadata": {},
   "outputs": [],
   "source": [
    "tfidf_sorted_scores = display_scores(tfidf_vectorizer, tfidf)"
   ]
  },
  {
   "cell_type": "code",
   "execution_count": 403,
   "metadata": {},
   "outputs": [],
   "source": [
    "bag_of_words = [word[0] for word in tfidf_sorted_scores[:200]]"
   ]
  },
  {
   "cell_type": "code",
   "execution_count": 405,
   "metadata": {},
   "outputs": [],
   "source": [
    "tf_vectorizer = CountVectorizer()\n",
    "tf = tf_vectorizer.fit_transform(corpus)"
   ]
  },
  {
   "cell_type": "code",
   "execution_count": 406,
   "metadata": {},
   "outputs": [],
   "source": [
    "tfidf_feature_names = tfidf_vectorizer.get_feature_names()"
   ]
  },
  {
   "cell_type": "code",
   "execution_count": 407,
   "metadata": {},
   "outputs": [],
   "source": [
    "lda = LatentDirichletAllocation(n_topics=4, max_iter=5,\n",
    "                                learning_method='online',\n",
    "                                learning_offset=50.,\n",
    "                                random_state=0)"
   ]
  },
  {
   "cell_type": "code",
   "execution_count": 408,
   "metadata": {},
   "outputs": [
    {
     "name": "stderr",
     "output_type": "stream",
     "text": [
      "/usr/local/lib/python3.5/dist-packages/sklearn/decomposition/online_lda.py:294: DeprecationWarning:\n",
      "\n",
      "n_topics has been renamed to n_components in version 0.19 and will be removed in 0.21\n",
      "\n"
     ]
    },
    {
     "data": {
      "text/plain": [
       "LatentDirichletAllocation(batch_size=128, doc_topic_prior=None,\n",
       "             evaluate_every=-1, learning_decay=0.7,\n",
       "             learning_method='online', learning_offset=50.0,\n",
       "             max_doc_update_iter=100, max_iter=5, mean_change_tol=0.001,\n",
       "             n_components=10, n_jobs=1, n_topics=4, perp_tol=0.1,\n",
       "             random_state=0, topic_word_prior=None,\n",
       "             total_samples=1000000.0, verbose=0)"
      ]
     },
     "execution_count": 408,
     "metadata": {},
     "output_type": "execute_result"
    }
   ],
   "source": [
    "lda.fit(tf)"
   ]
  },
  {
   "cell_type": "code",
   "execution_count": 409,
   "metadata": {},
   "outputs": [
    {
     "name": "stderr",
     "output_type": "stream",
     "text": [
      "/usr/local/lib/python3.5/dist-packages/sklearn/decomposition/online_lda.py:294: DeprecationWarning:\n",
      "\n",
      "n_topics has been renamed to n_components in version 0.19 and will be removed in 0.21\n",
      "\n"
     ]
    }
   ],
   "source": [
    "distribution = lda.fit_transform(tf)"
   ]
  },
  {
   "cell_type": "code",
   "execution_count": 410,
   "metadata": {},
   "outputs": [
    {
     "name": "stdout",
     "output_type": "stream",
     "text": [
      "[[ 0.25        0.25        0.25        0.25      ]\n",
      " [ 0.02778917  0.02780652  0.91659435  0.02780995]\n",
      " [ 0.03648737  0.03571534  0.8920818   0.03571549]\n",
      " ..., \n",
      " [ 0.02130263  0.02083519  0.52798044  0.42988173]\n",
      " [ 0.23870814  0.00642995  0.74845113  0.00641078]\n",
      " [ 0.60778559  0.0625093   0.26719522  0.06250988]]\n"
     ]
    }
   ],
   "source": [
    "print(distribution)"
   ]
  },
  {
   "cell_type": "code",
   "execution_count": 411,
   "metadata": {},
   "outputs": [],
   "source": [
    "tf_feature_names = tf_vectorizer.get_feature_names()"
   ]
  },
  {
   "cell_type": "code",
   "execution_count": 412,
   "metadata": {},
   "outputs": [
    {
     "name": "stdout",
     "output_type": "stream",
     "text": [
      "Topic #0:\n",
      "xd 今天 真的 大家 明天 qq 可以 謝謝 好像 還有 加油 一個 看到 還是 哈哈 一起 不過 好多 開心 開始\n",
      "Topic #1:\n",
      "ahq 圖靈機 my 哈哈哈 啊啊啊 幹幹 正在 go so be 程式 with day 呵呵 ya all we tpa lol by\n",
      "Topic #2:\n",
      "可以 真的 一個 知道 就是 還是 不是 時候 不要 覺得 一直 這樣 這麼 大家 今天 如果 沒有 只是 很多 事情\n",
      "Topic #3:\n",
      "參加 活動 好久 一起 神魔 鎖鎖鎖 __ 作業 快來 ___ 儒佳 打卡 網址 問卷 不見 飲料 gg de 分享 lab\n",
      "\n"
     ]
    }
   ],
   "source": [
    "print_top_words(lda, tf_feature_names, 20)"
   ]
  },
  {
   "cell_type": "code",
   "execution_count": 438,
   "metadata": {},
   "outputs": [],
   "source": [
    "i = 0\n",
    "user_topic_distribution = defaultdict(lambda:defaultdict(list))\n",
    "for values in distribution:\n",
    "    user_id = matched_id[i]\n",
    "    # print(user_id)\n",
    "    maximum = max(values)\n",
    "    if maximum != 0.25:\n",
    "        index = list(values).index(max(values))\n",
    "        user_topic_distribution[user_id][index].append(maximum)\n",
    "    i += 1"
   ]
  },
  {
   "cell_type": "code",
   "execution_count": 501,
   "metadata": {},
   "outputs": [],
   "source": [
    "user_topic_count = defaultdict(lambda:defaultdict(lambda:0))\n",
    "for key, items in user_topic_distribution.items():\n",
    "    if key not in user_topic_count:\n",
    "        user_topic_count[key][0] = 0\n",
    "        user_topic_count[key][1] = 0\n",
    "        user_topic_count[key][2] = 0\n",
    "        user_topic_count[key][3] = 0\n",
    "    for topic, values in items.items():\n",
    "        user_topic_count[key][topic] = len(values)"
   ]
  },
  {
   "cell_type": "code",
   "execution_count": 512,
   "metadata": {},
   "outputs": [],
   "source": [
    "user_topic_table = [['id', 'topic0_count', 'topic1_count', 'topic2_count', 'topic3_count']]\n",
    "for key, items in user_topic_count.items():\n",
    "    scores = [key]\n",
    "    for i in range(4):\n",
    "        scores.append(user_topic_count[key][i])\n",
    "    user_topic_table.append(scores)"
   ]
  },
  {
   "cell_type": "code",
   "execution_count": 513,
   "metadata": {
    "scrolled": true
   },
   "outputs": [
    {
     "data": {
      "text/html": [
       "<div>\n",
       "<style>\n",
       "    .dataframe thead tr:only-child th {\n",
       "        text-align: right;\n",
       "    }\n",
       "\n",
       "    .dataframe thead th {\n",
       "        text-align: left;\n",
       "    }\n",
       "\n",
       "    .dataframe tbody tr th {\n",
       "        vertical-align: top;\n",
       "    }\n",
       "</style>\n",
       "<table border=\"1\" class=\"dataframe\">\n",
       "  <thead>\n",
       "    <tr style=\"text-align: right;\">\n",
       "      <th></th>\n",
       "      <th>id</th>\n",
       "      <th>topic0_count</th>\n",
       "      <th>topic1_count</th>\n",
       "      <th>topic2_count</th>\n",
       "      <th>topic3_count</th>\n",
       "    </tr>\n",
       "  </thead>\n",
       "  <tbody>\n",
       "    <tr>\n",
       "      <th>0</th>\n",
       "      <td>1822107337815837</td>\n",
       "      <td>6</td>\n",
       "      <td>1</td>\n",
       "      <td>10</td>\n",
       "      <td>4</td>\n",
       "    </tr>\n",
       "    <tr>\n",
       "      <th>1</th>\n",
       "      <td>1808122152538948</td>\n",
       "      <td>414</td>\n",
       "      <td>99</td>\n",
       "      <td>123</td>\n",
       "      <td>50</td>\n",
       "    </tr>\n",
       "    <tr>\n",
       "      <th>2</th>\n",
       "      <td>1525066240878271</td>\n",
       "      <td>63</td>\n",
       "      <td>30</td>\n",
       "      <td>45</td>\n",
       "      <td>17</td>\n",
       "    </tr>\n",
       "    <tr>\n",
       "      <th>3</th>\n",
       "      <td>10210988536529598</td>\n",
       "      <td>25</td>\n",
       "      <td>43</td>\n",
       "      <td>41</td>\n",
       "      <td>28</td>\n",
       "    </tr>\n",
       "    <tr>\n",
       "      <th>4</th>\n",
       "      <td>1386097208093454</td>\n",
       "      <td>311</td>\n",
       "      <td>90</td>\n",
       "      <td>413</td>\n",
       "      <td>86</td>\n",
       "    </tr>\n",
       "    <tr>\n",
       "      <th>5</th>\n",
       "      <td>1896221243728018</td>\n",
       "      <td>43</td>\n",
       "      <td>46</td>\n",
       "      <td>58</td>\n",
       "      <td>49</td>\n",
       "    </tr>\n",
       "    <tr>\n",
       "      <th>6</th>\n",
       "      <td>1634011049952111</td>\n",
       "      <td>33</td>\n",
       "      <td>27</td>\n",
       "      <td>47</td>\n",
       "      <td>15</td>\n",
       "    </tr>\n",
       "    <tr>\n",
       "      <th>7</th>\n",
       "      <td>1513944438661823</td>\n",
       "      <td>53</td>\n",
       "      <td>29</td>\n",
       "      <td>59</td>\n",
       "      <td>17</td>\n",
       "    </tr>\n",
       "    <tr>\n",
       "      <th>8</th>\n",
       "      <td>1840120512668185</td>\n",
       "      <td>151</td>\n",
       "      <td>64</td>\n",
       "      <td>419</td>\n",
       "      <td>30</td>\n",
       "    </tr>\n",
       "    <tr>\n",
       "      <th>9</th>\n",
       "      <td>1721752347837052</td>\n",
       "      <td>35</td>\n",
       "      <td>7</td>\n",
       "      <td>39</td>\n",
       "      <td>14</td>\n",
       "    </tr>\n",
       "    <tr>\n",
       "      <th>10</th>\n",
       "      <td>1736602939687427</td>\n",
       "      <td>49</td>\n",
       "      <td>28</td>\n",
       "      <td>45</td>\n",
       "      <td>40</td>\n",
       "    </tr>\n",
       "    <tr>\n",
       "      <th>11</th>\n",
       "      <td>10208698865103060</td>\n",
       "      <td>52</td>\n",
       "      <td>30</td>\n",
       "      <td>131</td>\n",
       "      <td>37</td>\n",
       "    </tr>\n",
       "    <tr>\n",
       "      <th>12</th>\n",
       "      <td>1755898664424794</td>\n",
       "      <td>147</td>\n",
       "      <td>93</td>\n",
       "      <td>165</td>\n",
       "      <td>47</td>\n",
       "    </tr>\n",
       "    <tr>\n",
       "      <th>13</th>\n",
       "      <td>1624663430897732</td>\n",
       "      <td>224</td>\n",
       "      <td>177</td>\n",
       "      <td>260</td>\n",
       "      <td>100</td>\n",
       "    </tr>\n",
       "    <tr>\n",
       "      <th>14</th>\n",
       "      <td>1517846504925449</td>\n",
       "      <td>285</td>\n",
       "      <td>110</td>\n",
       "      <td>729</td>\n",
       "      <td>73</td>\n",
       "    </tr>\n",
       "    <tr>\n",
       "      <th>15</th>\n",
       "      <td>1510694482285844</td>\n",
       "      <td>79</td>\n",
       "      <td>24</td>\n",
       "      <td>88</td>\n",
       "      <td>23</td>\n",
       "    </tr>\n",
       "    <tr>\n",
       "      <th>16</th>\n",
       "      <td>1442789662480454</td>\n",
       "      <td>70</td>\n",
       "      <td>20</td>\n",
       "      <td>115</td>\n",
       "      <td>21</td>\n",
       "    </tr>\n",
       "    <tr>\n",
       "      <th>17</th>\n",
       "      <td>1780384911978670</td>\n",
       "      <td>498</td>\n",
       "      <td>234</td>\n",
       "      <td>809</td>\n",
       "      <td>119</td>\n",
       "    </tr>\n",
       "    <tr>\n",
       "      <th>18</th>\n",
       "      <td>1425644360862465</td>\n",
       "      <td>34</td>\n",
       "      <td>7</td>\n",
       "      <td>40</td>\n",
       "      <td>10</td>\n",
       "    </tr>\n",
       "    <tr>\n",
       "      <th>19</th>\n",
       "      <td>1372981062791429</td>\n",
       "      <td>4</td>\n",
       "      <td>5</td>\n",
       "      <td>3</td>\n",
       "      <td>1</td>\n",
       "    </tr>\n",
       "    <tr>\n",
       "      <th>20</th>\n",
       "      <td>1929201887095729</td>\n",
       "      <td>275</td>\n",
       "      <td>114</td>\n",
       "      <td>277</td>\n",
       "      <td>82</td>\n",
       "    </tr>\n",
       "    <tr>\n",
       "      <th>21</th>\n",
       "      <td>1772954002721149</td>\n",
       "      <td>1209</td>\n",
       "      <td>365</td>\n",
       "      <td>1594</td>\n",
       "      <td>272</td>\n",
       "    </tr>\n",
       "    <tr>\n",
       "      <th>22</th>\n",
       "      <td>10213721570903289</td>\n",
       "      <td>57</td>\n",
       "      <td>117</td>\n",
       "      <td>48</td>\n",
       "      <td>38</td>\n",
       "    </tr>\n",
       "    <tr>\n",
       "      <th>23</th>\n",
       "      <td>1755437391140657</td>\n",
       "      <td>151</td>\n",
       "      <td>75</td>\n",
       "      <td>121</td>\n",
       "      <td>73</td>\n",
       "    </tr>\n",
       "    <tr>\n",
       "      <th>24</th>\n",
       "      <td>1462695893826968</td>\n",
       "      <td>7</td>\n",
       "      <td>1</td>\n",
       "      <td>5</td>\n",
       "      <td>2</td>\n",
       "    </tr>\n",
       "    <tr>\n",
       "      <th>25</th>\n",
       "      <td>1384036221681615</td>\n",
       "      <td>219</td>\n",
       "      <td>40</td>\n",
       "      <td>148</td>\n",
       "      <td>48</td>\n",
       "    </tr>\n",
       "    <tr>\n",
       "      <th>26</th>\n",
       "      <td>1563244917028120</td>\n",
       "      <td>144</td>\n",
       "      <td>64</td>\n",
       "      <td>257</td>\n",
       "      <td>29</td>\n",
       "    </tr>\n",
       "    <tr>\n",
       "      <th>27</th>\n",
       "      <td>1625035490848760</td>\n",
       "      <td>296</td>\n",
       "      <td>69</td>\n",
       "      <td>530</td>\n",
       "      <td>66</td>\n",
       "    </tr>\n",
       "    <tr>\n",
       "      <th>28</th>\n",
       "      <td>1637654792912553</td>\n",
       "      <td>186</td>\n",
       "      <td>140</td>\n",
       "      <td>183</td>\n",
       "      <td>74</td>\n",
       "    </tr>\n",
       "    <tr>\n",
       "      <th>29</th>\n",
       "      <td>1748447515171073</td>\n",
       "      <td>1687</td>\n",
       "      <td>584</td>\n",
       "      <td>2039</td>\n",
       "      <td>404</td>\n",
       "    </tr>\n",
       "    <tr>\n",
       "      <th>...</th>\n",
       "      <td>...</td>\n",
       "      <td>...</td>\n",
       "      <td>...</td>\n",
       "      <td>...</td>\n",
       "      <td>...</td>\n",
       "    </tr>\n",
       "    <tr>\n",
       "      <th>103</th>\n",
       "      <td>1803136159999174</td>\n",
       "      <td>93</td>\n",
       "      <td>252</td>\n",
       "      <td>169</td>\n",
       "      <td>82</td>\n",
       "    </tr>\n",
       "    <tr>\n",
       "      <th>104</th>\n",
       "      <td>1530185160345344</td>\n",
       "      <td>65</td>\n",
       "      <td>15</td>\n",
       "      <td>56</td>\n",
       "      <td>24</td>\n",
       "    </tr>\n",
       "    <tr>\n",
       "      <th>105</th>\n",
       "      <td>1599238036786208</td>\n",
       "      <td>88</td>\n",
       "      <td>37</td>\n",
       "      <td>73</td>\n",
       "      <td>41</td>\n",
       "    </tr>\n",
       "    <tr>\n",
       "      <th>106</th>\n",
       "      <td>1803804869633868</td>\n",
       "      <td>543</td>\n",
       "      <td>125</td>\n",
       "      <td>1135</td>\n",
       "      <td>84</td>\n",
       "    </tr>\n",
       "    <tr>\n",
       "      <th>107</th>\n",
       "      <td>1746678138681672</td>\n",
       "      <td>149</td>\n",
       "      <td>72</td>\n",
       "      <td>242</td>\n",
       "      <td>88</td>\n",
       "    </tr>\n",
       "    <tr>\n",
       "      <th>108</th>\n",
       "      <td>10213276568926800</td>\n",
       "      <td>68</td>\n",
       "      <td>13</td>\n",
       "      <td>37</td>\n",
       "      <td>17</td>\n",
       "    </tr>\n",
       "    <tr>\n",
       "      <th>109</th>\n",
       "      <td>1341342575915634</td>\n",
       "      <td>274</td>\n",
       "      <td>164</td>\n",
       "      <td>332</td>\n",
       "      <td>156</td>\n",
       "    </tr>\n",
       "    <tr>\n",
       "      <th>110</th>\n",
       "      <td>1495887873803756</td>\n",
       "      <td>3</td>\n",
       "      <td>2</td>\n",
       "      <td>3</td>\n",
       "      <td>2</td>\n",
       "    </tr>\n",
       "    <tr>\n",
       "      <th>111</th>\n",
       "      <td>1485478021473396</td>\n",
       "      <td>63</td>\n",
       "      <td>7</td>\n",
       "      <td>249</td>\n",
       "      <td>15</td>\n",
       "    </tr>\n",
       "    <tr>\n",
       "      <th>112</th>\n",
       "      <td>1459704867444437</td>\n",
       "      <td>160</td>\n",
       "      <td>32</td>\n",
       "      <td>252</td>\n",
       "      <td>44</td>\n",
       "    </tr>\n",
       "    <tr>\n",
       "      <th>113</th>\n",
       "      <td>1441585192605037</td>\n",
       "      <td>36</td>\n",
       "      <td>33</td>\n",
       "      <td>70</td>\n",
       "      <td>9</td>\n",
       "    </tr>\n",
       "    <tr>\n",
       "      <th>114</th>\n",
       "      <td>10214994163795546</td>\n",
       "      <td>6</td>\n",
       "      <td>1</td>\n",
       "      <td>3</td>\n",
       "      <td>2</td>\n",
       "    </tr>\n",
       "    <tr>\n",
       "      <th>115</th>\n",
       "      <td>1594133623932600</td>\n",
       "      <td>123</td>\n",
       "      <td>71</td>\n",
       "      <td>310</td>\n",
       "      <td>54</td>\n",
       "    </tr>\n",
       "    <tr>\n",
       "      <th>116</th>\n",
       "      <td>1380347355348220</td>\n",
       "      <td>19</td>\n",
       "      <td>3</td>\n",
       "      <td>9</td>\n",
       "      <td>11</td>\n",
       "    </tr>\n",
       "    <tr>\n",
       "      <th>117</th>\n",
       "      <td>1415853895166805</td>\n",
       "      <td>12</td>\n",
       "      <td>5</td>\n",
       "      <td>7</td>\n",
       "      <td>6</td>\n",
       "    </tr>\n",
       "    <tr>\n",
       "      <th>118</th>\n",
       "      <td>10212229002914065</td>\n",
       "      <td>435</td>\n",
       "      <td>77</td>\n",
       "      <td>407</td>\n",
       "      <td>96</td>\n",
       "    </tr>\n",
       "    <tr>\n",
       "      <th>119</th>\n",
       "      <td>1682785845070091</td>\n",
       "      <td>23</td>\n",
       "      <td>10</td>\n",
       "      <td>21</td>\n",
       "      <td>6</td>\n",
       "    </tr>\n",
       "    <tr>\n",
       "      <th>120</th>\n",
       "      <td>10209884878146900</td>\n",
       "      <td>91</td>\n",
       "      <td>40</td>\n",
       "      <td>96</td>\n",
       "      <td>37</td>\n",
       "    </tr>\n",
       "    <tr>\n",
       "      <th>121</th>\n",
       "      <td>1785137904835208</td>\n",
       "      <td>135</td>\n",
       "      <td>13</td>\n",
       "      <td>96</td>\n",
       "      <td>27</td>\n",
       "    </tr>\n",
       "    <tr>\n",
       "      <th>122</th>\n",
       "      <td>1397691943653217</td>\n",
       "      <td>146</td>\n",
       "      <td>38</td>\n",
       "      <td>162</td>\n",
       "      <td>59</td>\n",
       "    </tr>\n",
       "    <tr>\n",
       "      <th>123</th>\n",
       "      <td>1965432113473918</td>\n",
       "      <td>25</td>\n",
       "      <td>8</td>\n",
       "      <td>45</td>\n",
       "      <td>7</td>\n",
       "    </tr>\n",
       "    <tr>\n",
       "      <th>124</th>\n",
       "      <td>2199623280054803</td>\n",
       "      <td>96</td>\n",
       "      <td>91</td>\n",
       "      <td>194</td>\n",
       "      <td>38</td>\n",
       "    </tr>\n",
       "    <tr>\n",
       "      <th>125</th>\n",
       "      <td>1677360819003472</td>\n",
       "      <td>138</td>\n",
       "      <td>24</td>\n",
       "      <td>122</td>\n",
       "      <td>57</td>\n",
       "    </tr>\n",
       "    <tr>\n",
       "      <th>126</th>\n",
       "      <td>1759735150710515</td>\n",
       "      <td>40</td>\n",
       "      <td>14</td>\n",
       "      <td>38</td>\n",
       "      <td>36</td>\n",
       "    </tr>\n",
       "    <tr>\n",
       "      <th>127</th>\n",
       "      <td>1602301023124795</td>\n",
       "      <td>17</td>\n",
       "      <td>7</td>\n",
       "      <td>73</td>\n",
       "      <td>6</td>\n",
       "    </tr>\n",
       "    <tr>\n",
       "      <th>128</th>\n",
       "      <td>1370705566316359</td>\n",
       "      <td>30</td>\n",
       "      <td>19</td>\n",
       "      <td>30</td>\n",
       "      <td>20</td>\n",
       "    </tr>\n",
       "    <tr>\n",
       "      <th>129</th>\n",
       "      <td>1500120836718630</td>\n",
       "      <td>11</td>\n",
       "      <td>3</td>\n",
       "      <td>11</td>\n",
       "      <td>2</td>\n",
       "    </tr>\n",
       "    <tr>\n",
       "      <th>130</th>\n",
       "      <td>10209391996974018</td>\n",
       "      <td>364</td>\n",
       "      <td>102</td>\n",
       "      <td>290</td>\n",
       "      <td>117</td>\n",
       "    </tr>\n",
       "    <tr>\n",
       "      <th>131</th>\n",
       "      <td>1059418587522487</td>\n",
       "      <td>30</td>\n",
       "      <td>9</td>\n",
       "      <td>55</td>\n",
       "      <td>21</td>\n",
       "    </tr>\n",
       "    <tr>\n",
       "      <th>132</th>\n",
       "      <td>1550754018293032</td>\n",
       "      <td>578</td>\n",
       "      <td>290</td>\n",
       "      <td>553</td>\n",
       "      <td>309</td>\n",
       "    </tr>\n",
       "  </tbody>\n",
       "</table>\n",
       "<p>133 rows × 5 columns</p>\n",
       "</div>"
      ],
      "text/plain": [
       "                    id  topic0_count  topic1_count  topic2_count  topic3_count\n",
       "0     1822107337815837             6             1            10             4\n",
       "1     1808122152538948           414            99           123            50\n",
       "2     1525066240878271            63            30            45            17\n",
       "3    10210988536529598            25            43            41            28\n",
       "4     1386097208093454           311            90           413            86\n",
       "5     1896221243728018            43            46            58            49\n",
       "6     1634011049952111            33            27            47            15\n",
       "7     1513944438661823            53            29            59            17\n",
       "8     1840120512668185           151            64           419            30\n",
       "9     1721752347837052            35             7            39            14\n",
       "10    1736602939687427            49            28            45            40\n",
       "11   10208698865103060            52            30           131            37\n",
       "12    1755898664424794           147            93           165            47\n",
       "13    1624663430897732           224           177           260           100\n",
       "14    1517846504925449           285           110           729            73\n",
       "15    1510694482285844            79            24            88            23\n",
       "16    1442789662480454            70            20           115            21\n",
       "17    1780384911978670           498           234           809           119\n",
       "18    1425644360862465            34             7            40            10\n",
       "19    1372981062791429             4             5             3             1\n",
       "20    1929201887095729           275           114           277            82\n",
       "21    1772954002721149          1209           365          1594           272\n",
       "22   10213721570903289            57           117            48            38\n",
       "23    1755437391140657           151            75           121            73\n",
       "24    1462695893826968             7             1             5             2\n",
       "25    1384036221681615           219            40           148            48\n",
       "26    1563244917028120           144            64           257            29\n",
       "27    1625035490848760           296            69           530            66\n",
       "28    1637654792912553           186           140           183            74\n",
       "29    1748447515171073          1687           584          2039           404\n",
       "..                 ...           ...           ...           ...           ...\n",
       "103   1803136159999174            93           252           169            82\n",
       "104   1530185160345344            65            15            56            24\n",
       "105   1599238036786208            88            37            73            41\n",
       "106   1803804869633868           543           125          1135            84\n",
       "107   1746678138681672           149            72           242            88\n",
       "108  10213276568926800            68            13            37            17\n",
       "109   1341342575915634           274           164           332           156\n",
       "110   1495887873803756             3             2             3             2\n",
       "111   1485478021473396            63             7           249            15\n",
       "112   1459704867444437           160            32           252            44\n",
       "113   1441585192605037            36            33            70             9\n",
       "114  10214994163795546             6             1             3             2\n",
       "115   1594133623932600           123            71           310            54\n",
       "116   1380347355348220            19             3             9            11\n",
       "117   1415853895166805            12             5             7             6\n",
       "118  10212229002914065           435            77           407            96\n",
       "119   1682785845070091            23            10            21             6\n",
       "120  10209884878146900            91            40            96            37\n",
       "121   1785137904835208           135            13            96            27\n",
       "122   1397691943653217           146            38           162            59\n",
       "123   1965432113473918            25             8            45             7\n",
       "124   2199623280054803            96            91           194            38\n",
       "125   1677360819003472           138            24           122            57\n",
       "126   1759735150710515            40            14            38            36\n",
       "127   1602301023124795            17             7            73             6\n",
       "128   1370705566316359            30            19            30            20\n",
       "129   1500120836718630            11             3            11             2\n",
       "130  10209391996974018           364           102           290           117\n",
       "131   1059418587522487            30             9            55            21\n",
       "132   1550754018293032           578           290           553           309\n",
       "\n",
       "[133 rows x 5 columns]"
      ]
     },
     "execution_count": 513,
     "metadata": {},
     "output_type": "execute_result"
    }
   ],
   "source": [
    "headers = user_topic_table.pop(0)\n",
    "df = pd.DataFrame(user_topic_table, columns=headers)\n",
    "df"
   ]
  },
  {
   "cell_type": "code",
   "execution_count": null,
   "metadata": {},
   "outputs": [],
   "source": []
  }
 ],
 "metadata": {
  "kernelspec": {
   "display_name": "Python 3",
   "language": "python",
   "name": "python3"
  },
  "language_info": {
   "codemirror_mode": {
    "name": "ipython",
    "version": 3
   },
   "file_extension": ".py",
   "mimetype": "text/x-python",
   "name": "python",
   "nbconvert_exporter": "python",
   "pygments_lexer": "ipython3",
   "version": "3.5.2"
  }
 },
 "nbformat": 4,
 "nbformat_minor": 2
}
