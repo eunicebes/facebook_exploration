{
 "cells": [
  {
   "cell_type": "code",
   "execution_count": 88,
   "metadata": {},
   "outputs": [],
   "source": [
    "import jieba\n",
    "import json\n",
    "import random"
   ]
  },
  {
   "cell_type": "code",
   "execution_count": 48,
   "metadata": {},
   "outputs": [],
   "source": [
    "from elasticsearch import Elasticsearch\n",
    "import elasticsearch.helpers\n",
    "from datetime import datetime"
   ]
  },
  {
   "cell_type": "code",
   "execution_count": 49,
   "metadata": {},
   "outputs": [],
   "source": [
    "es = Elasticsearch([{'host': 'localhost', 'port': 9200}])"
   ]
  },
  {
   "cell_type": "code",
   "execution_count": 50,
   "metadata": {},
   "outputs": [
    {
     "name": "stdout",
     "output_type": "stream",
     "text": [
      "58 documents found\n"
     ]
    }
   ],
   "source": [
    "# Find top10\n",
    "res = es.search(index='facebook', doc_type='user', body= {'query': {'match': {'gender': 'female'}}})\n",
    "print(\"%d documents found\" % res['hits']['total'])"
   ]
  },
  {
   "cell_type": "code",
   "execution_count": 51,
   "metadata": {},
   "outputs": [
    {
     "name": "stdout",
     "output_type": "stream",
     "text": [
      "143\n"
     ]
    }
   ],
   "source": [
    "# Take all result\n",
    "users = list(elasticsearch.helpers.scan(es, index='facebook', doc_type='user'))\n",
    "total_user = [(user['_id'], user['_source'].get('gender')) for user in users]\n",
    "print(len(total_user))"
   ]
  },
  {
   "cell_type": "code",
   "execution_count": 132,
   "metadata": {},
   "outputs": [],
   "source": [
    "no_message = ['1618047998214350', '1624029027647185', '1454298984658260']\n",
    "foreigners = ['1695358370488750', '10213401737335928', '1532260126834371', '10154597524691479', '10155404471078548', '10158882655745234']"
   ]
  },
  {
   "cell_type": "code",
   "execution_count": 142,
   "metadata": {},
   "outputs": [],
   "source": [
    "user_dict = {'male': [], 'female': []}\n",
    "for user in total_user:\n",
    "    if user[0] not in (no_message + foreigners):\n",
    "        if user[1] == 'male':\n",
    "            user_dict['male'].append(user[0])\n",
    "        else:\n",
    "            user_dict['female'].append(user[0])"
   ]
  },
  {
   "cell_type": "code",
   "execution_count": 143,
   "metadata": {},
   "outputs": [
    {
     "name": "stdout",
     "output_type": "stream",
     "text": [
      "male: 80\n",
      "female: 54\n"
     ]
    }
   ],
   "source": [
    "print('male: ' + str(len(user_dict['male'])) + '\\nfemale: ' + str(len(user_dict['female'])))"
   ]
  },
  {
   "cell_type": "code",
   "execution_count": 144,
   "metadata": {},
   "outputs": [],
   "source": [
    "# Mapping user posts\n",
    "def get_posts(users):\n",
    "    posts_dic = {}\n",
    "    for user in users:\n",
    "        # print(user)\n",
    "        posts = list(elasticsearch.helpers.scan(es, query={'query': {'match': {'user_id': user}}}, index='facebook', doc_type='post'))\n",
    "        message = [post['_source'].get('message') for post in posts if post['_source'].get('message') != '']\n",
    "        #print(message)\n",
    "        posts_dic[user] = message\n",
    "    return posts_dic"
   ]
  },
  {
   "cell_type": "code",
   "execution_count": 145,
   "metadata": {},
   "outputs": [],
   "source": [
    "male_posts_dict = get_posts(user_dict['male'])\n",
    "female_posts_dict = get_posts(user_dict['female'])"
   ]
  },
  {
   "cell_type": "code",
   "execution_count": 146,
   "metadata": {},
   "outputs": [],
   "source": [
    "# Check if content is Chinese or not\n",
    "def is_Chinese(uchar):\n",
    "    if uchar >= u'\\u4e00' and uchar<=u'\\u9fa5':  \n",
    "        return True  \n",
    "    else:  \n",
    "        return False"
   ]
  },
  {
   "cell_type": "code",
   "execution_count": 147,
   "metadata": {},
   "outputs": [
    {
     "name": "stderr",
     "output_type": "stream",
     "text": [
      "Building prefix dict from the default dictionary ...\n",
      "Loading model from cache /tmp/jieba.cache\n",
      "Loading model cost 1.114 seconds.\n",
      "Prefix dict has been built succesfully.\n"
     ]
    },
    {
     "name": "stdout",
     "output_type": "stream",
     "text": [
      "Default Mode: 吃/ 飽/ 飽/ ㄏ/ ㄏ\n",
      "Default Mode: 操/ 你媽/ 的/ ，/ 自己/ 的/ 事不會/ 自己/ 解決/ ？/ 都/ 幾歲/ 了/ 還玩/ 這種/ 花樣/ ，/ 乾/ 我/ 屁事/ ？\n",
      "Default Mode: 以為/ 你/ 在/ 認真/ 介紹/ ，/ 沒/ 想到/ 在/ 跟/ 妹子/ 聊天/ ，/ ㄏ/ ㄏ\n",
      "Default Mode: 不要/ ~/ ~/ ~/ 很痛/ >/ </ \n",
      "/ ./ \n",
      "/ ./ \n",
      "/ ./ \n",
      "/ ./ \n",
      "/ ./ \n",
      "/ ./ \n",
      "/ ./ \n",
      "/ ./ \n",
      "/ ./ \n",
      "/ ./ \n",
      "/ ./ \n",
      "/ ./ \n",
      "/ ./ \n",
      "/ ./ \n",
      "/ ./ \n",
      "/ ./ \n",
      "/ ./ \n",
      "/ ./ \n",
      "/ ./ \n",
      "/ ./ \n",
      "/ 標珩彤\n",
      "Default Mode: 上天/ 眷顧/ ..\n",
      "Default Mode: 幸運兒/ 是/ 我/ >/ // // // // // // // <\n",
      "Default Mode: 寑/ 聚/  / 5\n",
      "Default Mode: 我/ 超強/ 嘿嘿/ ~/ ~/ ~/ \r\n",
      "\n",
      "Default Mode: 大家/ 來/ 幫個/ 忙/ 吧/ 拜/ 託/ 拜/ 託/ 拜/ 託/ 拜/ 託/ 拜/ 託/ >/ </ \n",
      "/ 第/ 10/ 頁/  / 1175/ 號/  / 張/ X/ 哲/  / 唷/ !/ \n",
      "/ 雖然/ 有點/ 麻煩/  / 但/ 還是/ 拜/ 託/ 幫個/ 忙/ 窩/ ~/ ~/ ~/ \n",
      "/ \n",
      "/ 謝謝/ 你/ 們/ QQ/ ~/ ~/ ~/ 感激/ 萬分\n",
      "Default Mode: 有點/ 累/ 。\n",
      "Default Mode: 這人/ 也/ 太帥/ 了/ 吧/ !/ ?\n",
      "Default Mode: 忘/ 了/ 拍照/  / ㄘ/ ㄘ\n",
      "Default Mode: 又/ Carry/ 了/ 一場/ ，/ 太癢/ 啦/ ！\n",
      "Default Mode: 開/ 抽/ !/ !/ !/ 可惡/ 想/ 吃/ 嗚/ 嗚/ ~/ ~/ ~\n",
      "Default Mode: 吃/ QQ/  / ,/ 變/ QQ/  /  / >/ // // // // // // // // </ ~\n",
      "Default Mode: 歐柏寬/ 你/ 就/ 不來/ >/ <\n",
      "Default Mode: #/ FWWIN\n",
      "Default Mode: 久/ 違/ 的/ 出門/ ,/ 只好/ 狂逛/ 一波/ >/ ～/ <\n",
      "Default Mode: 我/ 狼/ 威武/ >/ <\n",
      "Default Mode: 可惡/  / 想/ 抽/ >/ // // // // // // // // // // // // // // </ ~/  / </ 3\n",
      "Default Mode: 喜番/  / </ 3\n",
      "Default Mode: 上天/ 保佑/ 老師\n",
      "Default Mode: 雖然/ 說/ 我/ 很雷/ ，/ 自己/ 發現/ 蛋糕/ 破梗/ 沒救/ ，/ \n",
      "/ 之後還/ 還偷/ 放屁/ 被/ 當成/ 要/ 出去/ 一個/ 假動作/ 讓/ 大家/ 心安/ 了/ 2/ 秒/ XD/ ~/ \n",
      "/ 不過/ 說/ 到底/ 齁/ 我/ 還是/ 要/ 說/ ，/ 阿欣/ 你/ 就/ 在/ 那邊/ 很/ 驚恐/ 的/ 逃走/ 撇清/ 責任/ 阿/ 嗚/ 嗚/ 😭/ 😭/ \n",
      "/ -/ -/ -/ -/ -/ -/ -/ -/ -/ -/ -/ -/ -/ -/ -/ -/ -/ 分隔/ 線/ -/ -/ -/ -/ -/ -/ -/ -/ -/ -/ -/ -/ -/ -/ -/ -/ -/ -/ -/ -/ \n",
      "/ 謝謝/ 大家/ 星期五/ 幫/ 我們/ 慶祝/ 生日/ >/ // // // // // // // // // // </  / (/ 而且/ 不是/ 用/ 殘酷/ 的/ 解任/ 務/ 、/ 可怕/ 的/ 抹/ 奶油/ ，/ 覺得/ 開心/  / ❤/ ❤/ \n",
      "/ 還/ 花心思/ 準備/ 了/ 一份/ 禮物/ 送給/ 我們/ ，/ 雖然/ 以下/ 的/ 話/ 蠻/ 幹/ 的/ ，/ \n",
      "/ 不過/ 我/ 還是/ 要/ 說/ 我們/ 一定/ 會心懷/ 感激/ 、/ 沒齒/ 難/ 忘/ ，/ \n",
      "/ 還會/ 飲水/ 思源/ 、/ 吃/ 果子/ 拜樹頭/ ，/ 簡單/ 的/ 說/ ，/ 就是/ 愛你們/ 大家/ 哈哈哈/ ！/ \n",
      "/ \n",
      "/ 希望/ 大家/ 不管/ 是/ 畢業/ 前/ 還是/ 畢業/ 後/ ，/ 都/ 能/ 像/ 今天/ 一樣/ ，/ 一群/ 人/ 聚在一起/ \n",
      "/ (/ 今天/ 剛好/ 不能/ 來/ 的/ 也/ 沒關/ 係/ ，/ 之/ 後/ 有的是/ 機會/ 哈哈/ >/ </ )/ ，/ 一起/ 聊天/ 一起/ 玩耍/ ，/ 總/ 之/ 就是/ 歡樂/ ！/ \n",
      "/ \n",
      "/ 附上/ 一張/ 帥氣/ a/ 癡/ 呆/ 阿標/ 當作/ 結尾/ 👨\n"
     ]
    }
   ],
   "source": [
    "for key, messages in male_posts_dict.items():\n",
    "    for message in messages:\n",
    "        seg_list = jieba.cut(message, cut_all = False)\n",
    "        print(\"Default Mode: \" + \"/ \".join(seg_list))  # 精确模式\n",
    "    break"
   ]
  },
  {
   "cell_type": "code",
   "execution_count": null,
   "metadata": {},
   "outputs": [],
   "source": []
  }
 ],
 "metadata": {
  "kernelspec": {
   "display_name": "Python 3",
   "language": "python",
   "name": "python3"
  },
  "language_info": {
   "codemirror_mode": {
    "name": "ipython",
    "version": 3
   },
   "file_extension": ".py",
   "mimetype": "text/x-python",
   "name": "python",
   "nbconvert_exporter": "python",
   "pygments_lexer": "ipython3",
   "version": "3.5.2"
  }
 },
 "nbformat": 4,
 "nbformat_minor": 2
}
