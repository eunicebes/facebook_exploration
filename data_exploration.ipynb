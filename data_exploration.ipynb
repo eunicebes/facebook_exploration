{
 "cells": [
  {
   "cell_type": "code",
   "execution_count": 88,
   "metadata": {},
   "outputs": [],
   "source": [
    "import jieba\n",
    "import json\n",
    "import random"
   ]
  },
  {
   "cell_type": "code",
   "execution_count": 48,
   "metadata": {},
   "outputs": [],
   "source": [
    "from elasticsearch import Elasticsearch\n",
    "import elasticsearch.helpers\n",
    "from datetime import datetime"
   ]
  },
  {
   "cell_type": "code",
   "execution_count": 49,
   "metadata": {},
   "outputs": [],
   "source": [
    "es = Elasticsearch([{'host': 'localhost', 'port': 9200}])"
   ]
  },
  {
   "cell_type": "code",
   "execution_count": 50,
   "metadata": {},
   "outputs": [
    {
     "name": "stdout",
     "output_type": "stream",
     "text": [
      "58 documents found\n"
     ]
    }
   ],
   "source": [
    "# Find top10\n",
    "res = es.search(index='facebook', doc_type='user', body= {'query': {'match': {'gender': 'female'}}})\n",
    "print(\"%d documents found\" % res['hits']['total'])"
   ]
  },
  {
   "cell_type": "code",
   "execution_count": 51,
   "metadata": {},
   "outputs": [
    {
     "name": "stdout",
     "output_type": "stream",
     "text": [
      "143\n"
     ]
    }
   ],
   "source": [
    "# Take all result\n",
    "users = list(elasticsearch.helpers.scan(es, index='facebook', doc_type='user'))\n",
    "total_user = [(user['_id'], user['_source'].get('gender')) for user in users]\n",
    "print(len(total_user))"
   ]
  },
  {
   "cell_type": "code",
   "execution_count": 52,
   "metadata": {},
   "outputs": [],
   "source": [
    "user_dict = {'male': [], 'female': []}\n",
    "for user in total_user:\n",
    "    if user[1] == 'male':\n",
    "        user_dict['male'].append(user[0])\n",
    "    else:\n",
    "        user_dict['female'].append(user[0])"
   ]
  },
  {
   "cell_type": "code",
   "execution_count": 53,
   "metadata": {},
   "outputs": [
    {
     "name": "stdout",
     "output_type": "stream",
     "text": [
      "male: 85\n",
      "female: 58\n"
     ]
    }
   ],
   "source": [
    "print('male: ' + str(len(user_dict['male'])) + '\\nfemale: ' + str(len(user_dict['female'])))"
   ]
  },
  {
   "cell_type": "code",
   "execution_count": 62,
   "metadata": {},
   "outputs": [],
   "source": [
    "# Mapping user posts\n",
    "def get_posts(users):\n",
    "    posts_dic = {}\n",
    "    for user in users:\n",
    "        # print(user)\n",
    "        posts = list(elasticsearch.helpers.scan(es, query={'query': {'match': {'user_id': user}}}, index='facebook', doc_type='post'))\n",
    "        message = [post['_source'].get('message') for post in posts if post['_source'].get('message') != '']\n",
    "        #print(message)\n",
    "        posts_dic[user] = message\n",
    "    return posts_dic"
   ]
  },
  {
   "cell_type": "code",
   "execution_count": 63,
   "metadata": {},
   "outputs": [],
   "source": [
    "male_posts_dict = get_posts(user_dict['male'])\n",
    "female_posts_dict = get_posts(user_dict['female'])"
   ]
  },
  {
   "cell_type": "code",
   "execution_count": 82,
   "metadata": {},
   "outputs": [],
   "source": [
    "# Check if content is Chinese or not\n",
    "def is_Chinese(uchar):\n",
    "    if uchar >= u'\\u4e00' and uchar<=u'\\u9fa5':  \n",
    "        return True  \n",
    "    else:  \n",
    "        return False"
   ]
  },
  {
   "cell_type": "code",
   "execution_count": 95,
   "metadata": {},
   "outputs": [
    {
     "name": "stdout",
     "output_type": "stream",
     "text": [
      "1718957978189238\n",
      "1695358370488750\n",
      "1744561298891803\n",
      "1759735150710515\n",
      "1624663430897732\n",
      "10213401737335928\n",
      "10203448986903044\n",
      "1532260126834371\n",
      "1372981062791429\n",
      "10213721570903289\n",
      "1594133623932600\n",
      "10154597524691479\n",
      "1637654792912553\n",
      "1746678138681672\n",
      "10155404471078548\n"
     ]
    }
   ],
   "source": [
    "for key, messages in male_posts_dict.items():\n",
    "    # print(len(messages))\n",
    "    random_num = random.sample(range(0, len(messages)), 5)\n",
    "    res = [is_Chinese(messages[i]) for i in random_num]\n",
    "    if (res.count(True)) < (res.count(False)):\n",
    "        print(key)"
   ]
  },
  {
   "cell_type": "code",
   "execution_count": null,
   "metadata": {},
   "outputs": [],
   "source": []
  }
 ],
 "metadata": {
  "kernelspec": {
   "display_name": "Python 3",
   "language": "python",
   "name": "python3"
  },
  "language_info": {
   "codemirror_mode": {
    "name": "ipython",
    "version": 3
   },
   "file_extension": ".py",
   "mimetype": "text/x-python",
   "name": "python",
   "nbconvert_exporter": "python",
   "pygments_lexer": "ipython3",
   "version": "3.5.2"
  }
 },
 "nbformat": 4,
 "nbformat_minor": 2
}
